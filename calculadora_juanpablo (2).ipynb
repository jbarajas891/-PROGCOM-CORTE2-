{
  "nbformat": 4,
  "nbformat_minor": 0,
  "metadata": {
    "colab": {
      "provenance": [],
      "collapsed_sections": []
    },
    "kernelspec": {
      "name": "python3",
      "display_name": "Python 3"
    },
    "language_info": {
      "name": "python"
    }
  },
  "cells": [
    {
      "cell_type": "code",
      "execution_count": 11,
      "metadata": {
        "id": "1WncR-rrswz5"
      },
      "outputs": [],
      "source": [
        "class Calculadora():\n",
        "  def operaciones(self):\n",
        "    self.resultado=0\n",
        "    self.nu1=0\n",
        "    self.nu2=0\n",
        "    self.de1=1\n",
        "    self.de2=1\n",
        "  def sumar(self):\n",
        "    self.resultado = print((self.nu1 + self.nu2),\"/\",(self.de1 *self.de2))\n",
        "  def restar(self):\n",
        "    self.resultado = print((self.nu1 - self.nu2),\"/\",(self.de1 *self.de2))\n",
        "  def multiplicar(self):\n",
        "    self.resultado = print((self.nu1 * self.nu2),\"/\",(self.de1 *self.de2))\n",
        "  def dividir(self):\n",
        "    self.resultado = print((self.nu1 * self.de2),\"/\",(self.de1 *self.nu2))\n",
        "  def respuesta(self):\n",
        "    return self.resultado"
      ]
    },
    {
      "cell_type": "code",
      "source": [
        "calcu = Calculadora()\n",
        "calcu.nu1 = int(input(\"digite el primer numerador\"))\n",
        "calcu.de1 = int(input(\"digite el primer  denomerador\"))\n",
        "calcu.nu2 = int(input(\"digite el segundo numerador\"))\n",
        "calcu.de2 = int(input(\"digite el segundo denominador\"))\n",
        "calcu.restar()\n",
        "calcu.respuesta()\n"
      ],
      "metadata": {
        "colab": {
          "base_uri": "https://localhost:8080/"
        },
        "id": "qw6Uds3zt64L",
        "outputId": "32135ce6-1a7b-4a97-a904-70dbc6462de5"
      },
      "execution_count": 12,
      "outputs": [
        {
          "output_type": "stream",
          "name": "stdout",
          "text": [
            "digite el primer numerador2\n",
            "digite el primer  denomerador1\n",
            "digite el segundo numerador1\n",
            "digite el segundo denominador1\n",
            "1 / 1\n"
          ]
        }
      ]
    }
  ]
}