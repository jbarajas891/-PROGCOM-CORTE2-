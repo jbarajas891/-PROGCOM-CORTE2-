{
  "nbformat": 4,
  "nbformat_minor": 0,
  "metadata": {
    "colab": {
      "provenance": [],
      "collapsed_sections": []
    },
    "kernelspec": {
      "name": "python3",
      "display_name": "Python 3"
    },
    "language_info": {
      "name": "python"
    }
  },
  "cells": [
    {
      "cell_type": "code",
      "source": [
        "#minar cripto\n",
        "import emplatilip"
      ],
      "metadata": {
        "colab": {
          "base_uri": "https://localhost:8080/",
          "height": 336
        },
        "id": "ouVwHR88QqWk",
        "outputId": "8f6671cb-edef-4d3e-813a-d5bfd250d720"
      },
      "execution_count": 1,
      "outputs": [
        {
          "output_type": "error",
          "ename": "ModuleNotFoundError",
          "evalue": "ignored",
          "traceback": [
            "\u001b[0;31m---------------------------------------------------------------------------\u001b[0m",
            "\u001b[0;31mModuleNotFoundError\u001b[0m                       Traceback (most recent call last)",
            "\u001b[0;32m<ipython-input-1-5980531344c7>\u001b[0m in \u001b[0;36m<module>\u001b[0;34m\u001b[0m\n\u001b[1;32m      1\u001b[0m \u001b[0;31m#minar cripto\u001b[0m\u001b[0;34m\u001b[0m\u001b[0;34m\u001b[0m\u001b[0;34m\u001b[0m\u001b[0m\n\u001b[0;32m----> 2\u001b[0;31m \u001b[0;32mimport\u001b[0m \u001b[0memplatilip\u001b[0m\u001b[0;34m\u001b[0m\u001b[0;34m\u001b[0m\u001b[0m\n\u001b[0m",
            "\u001b[0;31mModuleNotFoundError\u001b[0m: No module named 'emplatilip'",
            "",
            "\u001b[0;31m---------------------------------------------------------------------------\u001b[0;32m\nNOTE: If your import is failing due to a missing package, you can\nmanually install dependencies using either !pip or !apt.\n\nTo view examples of installing some common dependencies, click the\n\"Open Examples\" button below.\n\u001b[0;31m---------------------------------------------------------------------------\u001b[0m\n"
          ],
          "errorDetails": {
            "actions": [
              {
                "action": "open_url",
                "actionText": "Open Examples",
                "url": "/notebooks/snippets/importing_libraries.ipynb"
              }
            ]
          }
        }
      ]
    },
    {
      "cell_type": "code",
      "source": [
        "#no se puede poner color a la letra\n",
        "lblusuario=Label(text=\"mi nombre es:\",font=(\"arial\")).place(x=24,y=30)"
      ],
      "metadata": {
        "colab": {
          "base_uri": "https://localhost:8080/",
          "height": 190
        },
        "id": "v2S5HMp6RQLL",
        "outputId": "4c8d5e2b-a671-4f46-9767-1a7ff26a23e9"
      },
      "execution_count": 2,
      "outputs": [
        {
          "output_type": "error",
          "ename": "NameError",
          "evalue": "ignored",
          "traceback": [
            "\u001b[0;31m---------------------------------------------------------------------------\u001b[0m",
            "\u001b[0;31mNameError\u001b[0m                                 Traceback (most recent call last)",
            "\u001b[0;32m<ipython-input-2-0de0d1fe19fe>\u001b[0m in \u001b[0;36m<module>\u001b[0;34m\u001b[0m\n\u001b[1;32m      1\u001b[0m \u001b[0;31m#no se puede poner color a la letra\u001b[0m\u001b[0;34m\u001b[0m\u001b[0;34m\u001b[0m\u001b[0;34m\u001b[0m\u001b[0m\n\u001b[0;32m----> 2\u001b[0;31m \u001b[0mlblusuario\u001b[0m\u001b[0;34m=\u001b[0m\u001b[0mLabel\u001b[0m\u001b[0;34m(\u001b[0m\u001b[0mtext\u001b[0m\u001b[0;34m=\u001b[0m\u001b[0;34m\"mi nombre es:\"\u001b[0m\u001b[0;34m,\u001b[0m\u001b[0mfont\u001b[0m\u001b[0;34m=\u001b[0m\u001b[0;34m(\u001b[0m\u001b[0;34m\"arial\"\u001b[0m\u001b[0;34m)\u001b[0m\u001b[0;34m)\u001b[0m\u001b[0;34m.\u001b[0m\u001b[0mplace\u001b[0m\u001b[0;34m(\u001b[0m\u001b[0mx\u001b[0m\u001b[0;34m=\u001b[0m\u001b[0;36m24\u001b[0m\u001b[0;34m,\u001b[0m\u001b[0my\u001b[0m\u001b[0;34m=\u001b[0m\u001b[0;36m30\u001b[0m\u001b[0;34m)\u001b[0m\u001b[0;34m\u001b[0m\u001b[0;34m\u001b[0m\u001b[0m\n\u001b[0m",
            "\u001b[0;31mNameError\u001b[0m: name 'Label' is not defined"
          ]
        }
      ]
    },
    {
      "cell_type": "code",
      "source": [
        "#e codigo se ejecuta en una misma ventana y no en otra diferente\n",
        "ventana.geometry('500x300+100+100')"
      ],
      "metadata": {
        "colab": {
          "base_uri": "https://localhost:8080/",
          "height": 190
        },
        "id": "quWI7A9VRg2x",
        "outputId": "de62949a-f9d6-4f3f-d31e-9c3b9346b6ce"
      },
      "execution_count": 3,
      "outputs": [
        {
          "output_type": "error",
          "ename": "NameError",
          "evalue": "ignored",
          "traceback": [
            "\u001b[0;31m---------------------------------------------------------------------------\u001b[0m",
            "\u001b[0;31mNameError\u001b[0m                                 Traceback (most recent call last)",
            "\u001b[0;32m<ipython-input-3-1f2d702e565e>\u001b[0m in \u001b[0;36m<module>\u001b[0;34m\u001b[0m\n\u001b[1;32m      1\u001b[0m \u001b[0;31m#e codigo se ejecuta en una misma ventana y no en otra diferente\u001b[0m\u001b[0;34m\u001b[0m\u001b[0;34m\u001b[0m\u001b[0;34m\u001b[0m\u001b[0m\n\u001b[0;32m----> 2\u001b[0;31m \u001b[0mventana\u001b[0m\u001b[0;34m.\u001b[0m\u001b[0mgeometry\u001b[0m\u001b[0;34m(\u001b[0m\u001b[0;34m'500x300+100+100'\u001b[0m\u001b[0;34m)\u001b[0m\u001b[0;34m\u001b[0m\u001b[0;34m\u001b[0m\u001b[0m\n\u001b[0m",
            "\u001b[0;31mNameError\u001b[0m: name 'ventana' is not defined"
          ]
        }
      ]
    },
    {
      "cell_type": "code",
      "source": [
        "#no se pueden agregar botones\n",
        "Button= (self.a,text=\"Siguiente\")"
      ],
      "metadata": {
        "colab": {
          "base_uri": "https://localhost:8080/",
          "height": 135
        },
        "id": "Sy7XohSDRwPp",
        "outputId": "ab43bed8-d1ac-41bb-dfcd-038c2ffb6db9"
      },
      "execution_count": 4,
      "outputs": [
        {
          "output_type": "error",
          "ename": "SyntaxError",
          "evalue": "ignored",
          "traceback": [
            "\u001b[0;36m  File \u001b[0;32m\"<ipython-input-4-b19008a8d0c7>\"\u001b[0;36m, line \u001b[0;32m2\u001b[0m\n\u001b[0;31m    Button= (self.a,text=\"Siguiente\")\u001b[0m\n\u001b[0m                        ^\u001b[0m\n\u001b[0;31mSyntaxError\u001b[0m\u001b[0;31m:\u001b[0m invalid syntax\n"
          ]
        }
      ]
    },
    {
      "cell_type": "code",
      "source": [],
      "metadata": {
        "id": "68nxiLVaSciu"
      },
      "execution_count": null,
      "outputs": []
    },
    {
      "cell_type": "markdown",
      "source": [
        "#20 COSAS QUE COLAB NO PUEDE EJECUTAR\n",
        "* Conectarse a proxies remotos\n",
        "\n",
        "* Minar criptomonedas\n",
        "\n",
        "* Ejecutar ataques de denegación de servicio\n",
        "\n",
        "* Craquear contraseñas\n",
        "\n",
        "* Error al guardar información pasada y no permite llamar alguna variable, o arroja error, luego, se debe desconectar el entorno de ejecución...\n",
        "\n",
        "* NO poder graficar o identificar algún tipo de librería importada\n",
        "\n",
        "* No se puede ejercutar sin conexión.\n",
        "\n",
        "* Usar varias cuentas para eludir las restricciones de acceso o de uso de recursos\n",
        "\n",
        "* Crear ultrafalsos\n",
        "\n",
        "* descargar torrents o compartir archivos de punto a punto\n",
        "\n",
        "* colab necesita flexibilidad para ajustar dinámicamente los límites de uso y la disponibilidad de hardware\n",
        "\n",
        "* Número máximo de operaciones por usuario y por archivo, y cuotas de ancho de banda.\n",
        "\n",
        "* Las operaciones de Google Drive pueden agotar el tiempo de espera cuando el número de archivos o subcarpetas de una carpeta se vuelve demasiado grande, sin superar el límite necesariamente.\n",
        "\n",
        "* Cuota de almacenamiento limitada\n",
        "\n",
        "* No se ejecutan algunos entornos de programación.\n",
        "\n",
        "* Necesario tener una GPU de google para programar.\n",
        "\n",
        "* Pérdida de información en caso de algún fallo con la red o apagón.\n",
        "\n",
        "*  Contenido compartido puedes ser modificado al mismo tiempo, es decir, alguno podría alterar el programa mientras están todos allí\n",
        "\n",
        "* Alojar archivos, servir contenido multimedia u ofrecer otros servicios web que no estén relacionados con la computación interactiva de Colab\n",
        "\n",
        "* Usar varias cuentas para eludir las restricciones de acceso o de uso de recursos\n",
        "\n",
        "* Usar un escritorio remoto o SSH\n",
        "\n"
      ],
      "metadata": {
        "id": "yMAGyEtu8nHd"
      }
    },
    {
      "cell_type": "code",
      "source": [],
      "metadata": {
        "id": "pQD1euY3RL7b"
      },
      "execution_count": null,
      "outputs": []
    }
  ]
}