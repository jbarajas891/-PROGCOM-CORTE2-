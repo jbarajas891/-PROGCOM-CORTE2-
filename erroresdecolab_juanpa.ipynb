{
  "nbformat": 4,
  "nbformat_minor": 0,
  "metadata": {
    "colab": {
      "provenance": [],
      "collapsed_sections": []
    },
    "kernelspec": {
      "name": "python3",
      "display_name": "Python 3"
    },
    "language_info": {
      "name": "python"
    }
  },
  "cells": [
    {
      "cell_type": "code",
      "execution_count": null,
      "metadata": {
        "id": "UWFJ42O076mE"
      },
      "outputs": [],
      "source": [
        "#20 COSAS QUE COLAB NO PUEDE EJECUTAR by juan pablo barajas\n"
      ]
    },
    {
      "cell_type": "markdown",
      "source": [
        "#20 COSAS QUE COLAB NO PUEDE EJECUTAR\n",
        "* Conectarse a proxies remotos\n",
        "\n",
        "* Minar criptomonedas\n",
        "\n",
        "* Ejecutar ataques de denegación de servicio\n",
        "\n",
        "* Craquear contraseñas\n",
        "\n",
        "* Error al guardar información pasada y no permite llamar alguna variable, o arroja error, luego, se debe desconectar el entorno de ejecución...\n",
        "\n",
        "* NO poder graficar o identificar algún tipo de librería importada\n",
        "\n",
        "* No se puede ejercutar sin conexión.\n",
        "\n",
        "* Usar varias cuentas para eludir las restricciones de acceso o de uso de recursos\n",
        "\n",
        "* Crear ultrafalsos\n",
        "\n",
        "* descargar torrents o compartir archivos de punto a punto\n",
        "\n",
        "* colab necesita flexibilidad para ajustar dinámicamente los límites de uso y la disponibilidad de hardware\n",
        "\n",
        "* Número máximo de operaciones por usuario y por archivo, y cuotas de ancho de banda.\n",
        "\n",
        "* Las operaciones de Google Drive pueden agotar el tiempo de espera cuando el número de archivos o subcarpetas de una carpeta se vuelve demasiado grande, sin superar el límite necesariamente.\n",
        "\n",
        "* Cuota de almacenamiento limitada\n",
        "\n",
        "* No se ejecutan algunos entornos de programación.\n",
        "\n",
        "* Necesario tener una GPU de google para programar.\n",
        "\n",
        "* Pérdida de información en caso de algún fallo con la red o apagón.\n",
        "\n",
        "*  Contenido compartido puedes ser modificado al mismo tiempo, es decir, alguno podría alterar el programa mientras están todos allí\n",
        "\n",
        "* Alojar archivos, servir contenido multimedia u ofrecer otros servicios web que no estén relacionados con la computación interactiva de Colab\n",
        "\n",
        "* Usar varias cuentas para eludir las restricciones de acceso o de uso de recursos\n",
        "\n",
        "* Usar un escritorio remoto o SSH\n",
        "\n"
      ],
      "metadata": {
        "id": "yMAGyEtu8nHd"
      }
    }
  ]
}