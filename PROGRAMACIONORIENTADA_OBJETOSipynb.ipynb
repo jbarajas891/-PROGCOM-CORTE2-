{
  "nbformat": 4,
  "nbformat_minor": 0,
  "metadata": {
    "colab": {
      "provenance": []
    },
    "kernelspec": {
      "name": "python3",
      "display_name": "Python 3"
    },
    "language_info": {
      "name": "python"
    }
  },
  "cells": [
    {
      "cell_type": "markdown",
      "source": [
        "#POO \n",
        "clase es como un molde\n",
        "\n",
        "* VARIABLES--> atributos\n",
        "\n",
        "* FUNCIONES --> métodos\n",
        "\n",
        "* CONSTRUCTOR--> constituye una clase\n",
        "\n",
        "* OBJETOS--> compartes atributos\n",
        "\n",
        "Relaciones que tiene una identidad propia\n"
      ],
      "metadata": {
        "id": "VaxWxpfXDmnm"
      }
    },
    {
      "cell_type": "code",
      "source": [
        "class Mascotas:\n",
        "  pass\n"
      ],
      "metadata": {
        "id": "a0b4dTMyEbue"
      },
      "execution_count": 1,
      "outputs": []
    },
    {
      "cell_type": "code",
      "source": [
        "a=Mascotas\n",
        "b=Mascotas"
      ],
      "metadata": {
        "id": "JXi9RALlFA8P"
      },
      "execution_count": 3,
      "outputs": []
    },
    {
      "cell_type": "code",
      "source": [
        "if a==b:\n",
        "  print('son iguanitos')\n",
        "else:\n",
        "  print('no son iguanitos')\n",
        "  "
      ],
      "metadata": {
        "colab": {
          "base_uri": "https://localhost:8080/"
        },
        "id": "2hOahoqlGR3m",
        "outputId": "5f3b3ad9-4404-4fc7-80a6-cd5544e2a48d"
      },
      "execution_count": 4,
      "outputs": [
        {
          "output_type": "stream",
          "name": "stdout",
          "text": [
            "son iguanitos\n"
          ]
        }
      ]
    },
    {
      "cell_type": "code",
      "source": [
        "class Empleado():\n",
        "  #contruyendo un constructor\n",
        "  def __init__(self,nombre,edad,ID,salario):\n",
        "    self.nombre=nombre\n",
        "    self.edad=edad\n",
        "    self.ID=ID\n",
        "    self.salario=salario\n",
        "  def __repr__(self):\n",
        "    return f\"nombre:{self.nombre}, edad:{self.edad},ID:{self.ID},salario={self.salario}\"\n",
        "    "
      ],
      "metadata": {
        "id": "eY4dpg02GxTs"
      },
      "execution_count": 18,
      "outputs": []
    },
    {
      "cell_type": "code",
      "source": [
        "sonia=Empleado('Sonia',35,'U00156675',1000000)\n"
      ],
      "metadata": {
        "id": "c066itIAH_Jx"
      },
      "execution_count": 19,
      "outputs": []
    },
    {
      "cell_type": "code",
      "source": [
        "print(sonia)"
      ],
      "metadata": {
        "colab": {
          "base_uri": "https://localhost:8080/"
        },
        "id": "dTmjwMPlIS9n",
        "outputId": "3506b402-add2-4982-c862-a4ab0e50e262"
      },
      "execution_count": 20,
      "outputs": [
        {
          "output_type": "stream",
          "name": "stdout",
          "text": [
            "nombre:Sonia, edad:35,ID:U00156675,salario=1000000\n"
          ]
        }
      ]
    },
    {
      "cell_type": "code",
      "source": [
        "sonia.nombre"
      ],
      "metadata": {
        "colab": {
          "base_uri": "https://localhost:8080/",
          "height": 36
        },
        "id": "CflTi7QQIVfn",
        "outputId": "c8834f96-0cd7-45d2-afbe-e1231e8adec9"
      },
      "execution_count": 8,
      "outputs": [
        {
          "output_type": "execute_result",
          "data": {
            "text/plain": [
              "'Sonia'"
            ],
            "application/vnd.google.colaboratory.intrinsic+json": {
              "type": "string"
            }
          },
          "metadata": {},
          "execution_count": 8
        }
      ]
    },
    {
      "cell_type": "code",
      "source": [
        "sonia.__dict__"
      ],
      "metadata": {
        "colab": {
          "base_uri": "https://localhost:8080/"
        },
        "id": "7ZaAf-FMIb-3",
        "outputId": "1d07229a-3277-4b83-d968-485d55b59dda"
      },
      "execution_count": 9,
      "outputs": [
        {
          "output_type": "execute_result",
          "data": {
            "text/plain": [
              "{'nombre': 'Sonia', 'edad': 35, 'ID': 'U00156675', 'salario': 1000000}"
            ]
          },
          "metadata": {},
          "execution_count": 9
        }
      ]
    },
    {
      "cell_type": "code",
      "source": [
        "madaniel=Empleado('pirulais',83,'U00156675',100000)\n"
      ],
      "metadata": {
        "id": "EMc4iU7ENmvN"
      },
      "execution_count": 23,
      "outputs": []
    },
    {
      "cell_type": "code",
      "source": [
        "if sonia.salario==madaniel.salario:\n",
        "  print(f'el salario de {madaniel.nombre} y {sonia.nombre } son iguales')\n",
        "elif sonia.salario>madaniel.salario:\n",
        "  print(f'el salario de {madaniel.nombre} es menor al de {sonia.nombre } ')\n",
        "else:\n",
        "  print(f'el salario de {madaniel.nombre} es mayor al de {sonia.nombre } ')\n"
      ],
      "metadata": {
        "colab": {
          "base_uri": "https://localhost:8080/"
        },
        "id": "Yp89i_UrOBly",
        "outputId": "1b5942b7-a54b-491a-aa42-a429ae1261b6"
      },
      "execution_count": 24,
      "outputs": [
        {
          "output_type": "stream",
          "name": "stdout",
          "text": [
            "el salario de pirulais es menor al de Sonia \n"
          ]
        }
      ]
    },
    {
      "cell_type": "code",
      "source": [
        "class Fraccion:\n",
        "  #atributos de clase\n",
        "  num=0\n",
        "  den=1\n",
        "  #creando al contructor\n",
        "  def __init__(self, num=0, den=1):\n",
        "    self.num=num\n",
        "    self.den=den\n",
        "  def Multiplica(self,b):\n",
        "    num=self.num*b.num\n",
        "    den=self.num*b.num\n",
        "    r=Fraccion(num,den)\n",
        "    return r\n",
        "  def imprime(self):\n",
        "    print(self.num,'/',self.den)\n",
        "\n",
        "\n"
      ],
      "metadata": {
        "id": "iqYUWlFbO7wZ"
      },
      "execution_count": 32,
      "outputs": []
    },
    {
      "cell_type": "code",
      "source": [
        "#creando objetos tipo fracción\n",
        "a1=Fraccion(4,5)\n",
        "a2=Fraccion(8,9)"
      ],
      "metadata": {
        "id": "YQ0vXLXERRpN"
      },
      "execution_count": 33,
      "outputs": []
    },
    {
      "cell_type": "code",
      "source": [
        "a1.imprime()\n",
        "a2.imprime()"
      ],
      "metadata": {
        "colab": {
          "base_uri": "https://localhost:8080/"
        },
        "id": "qNoU0vQkRiNM",
        "outputId": "f34e8fe3-36af-44db-b968-5cd58eec2717"
      },
      "execution_count": 34,
      "outputs": [
        {
          "output_type": "stream",
          "name": "stdout",
          "text": [
            "4 / 5\n",
            "8 / 9\n"
          ]
        }
      ]
    },
    {
      "cell_type": "code",
      "source": [
        "c=a1.Multiplica(a2)\n"
      ],
      "metadata": {
        "id": "pnL62Av3S8Wi"
      },
      "execution_count": 35,
      "outputs": []
    },
    {
      "cell_type": "code",
      "source": [
        "c.imprime()"
      ],
      "metadata": {
        "colab": {
          "base_uri": "https://localhost:8080/"
        },
        "id": "zi2S76UuT8Wc",
        "outputId": "acfdda1b-1ae0-424f-c471-f442a51f2432"
      },
      "execution_count": 36,
      "outputs": [
        {
          "output_type": "stream",
          "name": "stdout",
          "text": [
            "32 / 32\n"
          ]
        }
      ]
    }
  ]
}