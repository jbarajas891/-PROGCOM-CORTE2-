{
  "nbformat": 4,
  "nbformat_minor": 0,
  "metadata": {
    "colab": {
      "provenance": []
    },
    "kernelspec": {
      "name": "python3",
      "display_name": "Python 3"
    },
    "language_info": {
      "name": "python"
    }
  },
  "cells": [
    {
      "cell_type": "code",
      "execution_count": 26,
      "metadata": {
        "colab": {
          "base_uri": "https://localhost:8080/"
        },
        "id": "_r22xmNipzYa",
        "outputId": "4393713c-4809-4d64-aefd-b121e2177e52"
      },
      "outputs": [
        {
          "output_type": "stream",
          "name": "stdout",
          "text": [
            "ingrese los numeros de los que quieres hacer un descuento\n",
            "si no desea ingresar mas datos  escribe 0100\n",
            "si no desea ingresar mas datos  escribe 0300\n",
            "si no desea ingresar mas datos  escribe 00\n",
            "ingresa el descuento sin el %\n",
            "None20\n",
            "este es el valor que le debes restar  [20.0, 60.0]\n"
          ]
        }
      ],
      "source": [
        "#ejercicio juaN Pablo\n",
        "precios =[]\n",
        "print('ingrese los numeros de los que quieres hacer un descuento')\n",
        "\n",
        "det=True\n",
        "while det:\n",
        "  num=int(input( ' si no desea ingresar mas datos  escribe 0 '))\n",
        "  precios.append(num)\n",
        "  det = False if num == 0 else num>0\n",
        "des=float(input('ingresa el descuento sin el %'))\n",
        "\n",
        "presdes=[precio*des/100 for precio in precios]\n",
        "presdes.pop(-1)\n",
        "print('este es el valor que le debes restar ', presdes)\n",
        "\n",
        "\n"
      ]
    },
    {
      "cell_type": "markdown",
      "source": [
        "#sinatxis Newlist=[expresion(elemento)for elemento N operacion y luego la condición]\n",
        "##ventajas:\n",
        "#más eficiente en tiempo y espacio que los bucles requiere menos líneas de código transforma una declaracion iterativa en una fórmula"
      ],
      "metadata": {
        "id": "jCHPxBv3_Nnr"
      }
    },
    {
      "cell_type": "code",
      "source": [
        "números=[(n*2)for n in range()1,9]\n",
        "print(números)\n"
      ],
      "metadata": {
        "id": "eJRKD23XtOOM"
      },
      "execution_count": null,
      "outputs": []
    },
    {
      "cell_type": "code",
      "source": [
        "cadenas=[\"*\" * n for n in range(1,6)]\n",
        "print(cadenas)"
      ],
      "metadata": {
        "id": "vpHfuz_iAjDo"
      },
      "execution_count": null,
      "outputs": []
    },
    {
      "cell_type": "code",
      "source": [
        "número=[2,5,6,9,10]\n",
        "cuadrados=[(n**2) for n in número]\n",
        "print(cuadrados)"
      ],
      "metadata": {
        "id": "cpWhhslHBfV_"
      },
      "execution_count": null,
      "outputs": []
    },
    {
      "cell_type": "code",
      "source": [
        "cadena= \"programación\"\n",
        "letras=[]\n",
        "for letra  in cadena:\n",
        "  letras.append(letra)\n",
        "\n",
        "print(letras)"
      ],
      "metadata": {
        "id": "mq2D9jJmBg1X"
      },
      "execution_count": null,
      "outputs": []
    },
    {
      "cell_type": "code",
      "source": [
        "cadena = \"python\"\n",
        "letras =[ letra for letra in cadena]\n",
        "print(letras)"
      ],
      "metadata": {
        "id": "Gle5s-b1Cd2S"
      },
      "execution_count": null,
      "outputs": []
    },
    {
      "cell_type": "code",
      "source": [
        "#EJERCICIO SAMUEL\n",
        "x=input('ingrese la palabra qeu desee:')\n",
        "lista=[n for n in x]\n",
        "print(lista)"
      ],
      "metadata": {
        "colab": {
          "base_uri": "https://localhost:8080/"
        },
        "id": "qtkNC4c9CwuQ",
        "outputId": "ae720070-adc5-4538-8978-7f48c0262711"
      },
      "execution_count": 27,
      "outputs": [
        {
          "output_type": "stream",
          "name": "stdout",
          "text": [
            "ingrese la palabra qeu desee:hola\n",
            "['h', 'o', 'l', 'a']\n"
          ]
        }
      ]
    },
    {
      "cell_type": "code",
      "source": [
        "#ejercicio amado\n",
        "lista1=[8,5,4,10,2]\n",
        "lista2=[elementos**2 for elementos in lista1 if elementos %2==0]\n",
        "\n",
        "print(' imprime los números pares de la lista',lista2)"
      ],
      "metadata": {
        "colab": {
          "base_uri": "https://localhost:8080/"
        },
        "id": "mbuGNpq1DCXI",
        "outputId": "a7ff545e-4d6c-4e2e-c07e-ad6e727e5a10"
      },
      "execution_count": 28,
      "outputs": [
        {
          "output_type": "stream",
          "name": "stdout",
          "text": [
            " imprime los números pares de la lista [64, 16, 100, 4]\n"
          ]
        }
      ]
    },
    {
      "cell_type": "code",
      "source": [
        "#ejercicio ivan arengas\n",
        "import random\n",
        "capitan= [random.randrange(1,30) for i in range(9)]\n",
        "print('imprime números aleatorios de la lísta', str(capitan))"
      ],
      "metadata": {
        "colab": {
          "base_uri": "https://localhost:8080/"
        },
        "id": "yMQbeZ3RDy3k",
        "outputId": "31eaadfd-2c4f-4a0f-af06-d56f7e28e9c8"
      },
      "execution_count": 29,
      "outputs": [
        {
          "output_type": "stream",
          "name": "stdout",
          "text": [
            "imprime números aleatorios de la lísta [16, 9, 9, 17, 8, 29, 14, 14, 20]\n"
          ]
        }
      ]
    },
    {
      "cell_type": "code",
      "source": [],
      "metadata": {
        "id": "H4onIZTkHnu-"
      },
      "execution_count": null,
      "outputs": []
    }
  ]
}