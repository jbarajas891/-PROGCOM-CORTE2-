{
  "nbformat": 4,
  "nbformat_minor": 0,
  "metadata": {
    "colab": {
      "provenance": [],
      "collapsed_sections": []
    },
    "kernelspec": {
      "name": "python3",
      "display_name": "Python 3"
    },
    "language_info": {
      "name": "python"
    }
  },
  "cells": [
    {
      "cell_type": "code",
      "execution_count": null,
      "metadata": {
        "id": "1WncR-rrswz5"
      },
      "outputs": [],
      "source": [
        "class Calculadora():\n",
        "  def calcu(self):\n",
        "    self.resul=0\n",
        "    self.num1=0\n",
        "    self.num2=0\n",
        "    self.den1=1\n",
        "    self.den2=1\n",
        "  def sumar(self):\n",
        "    self.resul = print((self.num1 + self.num2),\"/\",(self.den1 *self.den2))\n",
        "  def restar(self):\n",
        "    self.resul = print((self.num1 - self.num2),\"/\",(self.den1 *self.den2))\n",
        "  def multiplicar(self):\n",
        "    self.resul = print((self.num1 * self.num2),\"/\",(self.den1 *self.den2))\n",
        "  def dividir(self):\n",
        "    self.resul = print((self.num1 * self.den2),\"/\",(self.den1 *self.num2))\n",
        "  def respuesta(self):\n",
        "    return self.resul"
      ]
    }
  ]
}