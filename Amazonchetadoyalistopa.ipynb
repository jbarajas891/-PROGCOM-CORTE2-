{
  "nbformat": 4,
  "nbformat_minor": 0,
  "metadata": {
    "colab": {
      "provenance": []
    },
    "kernelspec": {
      "name": "python3",
      "display_name": "Python 3"
    },
    "language_info": {
      "name": "python"
    }
  },
  "cells": [
    {
      "cell_type": "code",
      "execution_count": 15,
      "metadata": {
        "id": "KHv0eN4j0AgG"
      },
      "outputs": [],
      "source": [
        "import random\n",
        "valor=[12000,14000,50000,800000]\n",
        "nombres=[\"Ps4\",\"Xbox One\",\"Psvita\",\"iphone\",\"Mac\",\"Alien Ware\"]\n",
        "ram=[16,20,34,60,120]\n",
        "carro=[]\n",
        "pedido=[]\n",
        "class Productos():\n",
        "  def __init__(self,numero_de_serie):\n",
        "    self.nombre= random.choice(nombres)\n",
        "    self.precio =random.choice(valor)\n",
        "    self.ram=random.choice(ram)\n",
        "    self.__numero_de_serie=numero_de_serie\n",
        "class Carrito(Productos):\n",
        "  def agregar(self):\n",
        "    carro.append(self.precio)\n",
        "    pedido.append(self.nombre)\n",
        "  def eliminar(self,num):\n",
        "    self.num=num\n",
        "    carro.pop(self.num)\n",
        "\n",
        "\n",
        "\n",
        "\n",
        "\n"
      ]
    },
    {
      "cell_type": "code",
      "source": [
        "def menu():\n",
        "  print('//bienveido a amazon//')\n",
        "  a=random.randint(0,10)\n",
        "  for i in range(a):\n",
        "    P1=Carrito(random.randint(1000,2000))\n",
        "    P1.agregar()\n",
        "  print(carro)\n",
        "  print(pedido)\n",
        "  total=(sum(carro))\n",
        "  print(total)\n",
        "menu()"
      ],
      "metadata": {
        "colab": {
          "base_uri": "https://localhost:8080/"
        },
        "id": "CTfsQS20J0BF",
        "outputId": "025ba065-123d-4e07-ec46-856bbfaeccf4"
      },
      "execution_count": 14,
      "outputs": [
        {
          "output_type": "stream",
          "name": "stdout",
          "text": [
            "//bienveido a amazon//\n",
            "[14000, 800000, 50000, 800000, 800000, 800000, 12000, 50000, 12000, 50000]\n",
            "['Mac', 'Psvita', 'Ps4', 'Ps4', 'Mac', 'Ps4', 'Xbox One', 'Xbox One', 'Xbox One', 'Xbox One']\n",
            "3388000\n"
          ]
        }
      ]
    },
    {
      "cell_type": "code",
      "source": [
        "\n",
        "P1=Carrito(1451)\n",
        "P1.agregar()\n",
        "P1.__dict__"
      ],
      "metadata": {
        "colab": {
          "base_uri": "https://localhost:8080/"
        },
        "id": "2E3P0GqL26UU",
        "outputId": "91fd5c61-3557-4d24-da70-fbb17fec0e86"
      },
      "execution_count": null,
      "outputs": [
        {
          "output_type": "execute_result",
          "data": {
            "text/plain": [
              "{'nombre': 'Xbox One',\n",
              " 'precio': 12000,\n",
              " 'ram': 16,\n",
              " '_Productos__numero_de_serie': 1451}"
            ]
          },
          "metadata": {},
          "execution_count": 133
        }
      ]
    },
    {
      "cell_type": "code",
      "source": [
        "P1.eliminar(1)"
      ],
      "metadata": {
        "id": "yvMVmwZeDkoh"
      },
      "execution_count": null,
      "outputs": []
    },
    {
      "cell_type": "code",
      "source": [
        "print(carro)"
      ],
      "metadata": {
        "colab": {
          "base_uri": "https://localhost:8080/"
        },
        "id": "gBl9xM7k5CaF",
        "outputId": "5af095a3-5a30-4bd3-d662-fa25f958ede5"
      },
      "execution_count": null,
      "outputs": [
        {
          "output_type": "stream",
          "name": "stdout",
          "text": [
            "[50000, 12000, 800000, 14000]\n"
          ]
        }
      ]
    }
  ]
}