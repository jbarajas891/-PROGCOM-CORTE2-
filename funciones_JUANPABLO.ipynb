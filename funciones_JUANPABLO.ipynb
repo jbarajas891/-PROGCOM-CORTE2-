{
  "nbformat": 4,
  "nbformat_minor": 0,
  "metadata": {
    "colab": {
      "provenance": [],
      "collapsed_sections": []
    },
    "kernelspec": {
      "name": "python3",
      "display_name": "Python 3"
    },
    "language_info": {
      "name": "python"
    }
  },
  "cells": [
    {
      "cell_type": "markdown",
      "source": [
        "##funciones\n",
        "def (nombre cualquiera)(parametros o argumentos):\n",
        "  lo que va dentro de la funcion"
      ],
      "metadata": {
        "id": "IqRB9tr_0khY"
      }
    },
    {
      "cell_type": "markdown",
      "source": [
        "tipos de funciones\n",
        "1.  sin parametro sin retorno.\n",
        "def lokita():\n",
        "  print('tome su 5)\n",
        "2.  sin parametro,con retorno.\n",
        "    def nic():\n",
        "    print('hola nicolas')\n",
        "    a=5\n",
        "    return a\n",
        "3.  con parametro sin retorno\n",
        "    def hol(a,'b',x=false):\n",
        "    int a\n",
        "    b=string\n",
        "    x=boolean\n",
        "    print('hola nicolas')\n",
        "    a=5\n",
        "    \n",
        "4.  con parametro, con retorno\n",
        "    def hol(a,'b',x=false):\n",
        "    int a\n",
        "    b=string\n",
        "    x=boolean\n",
        "    print('hola nicolas')\n",
        "    a=5\n",
        "    return a"
      ],
      "metadata": {
        "id": "E0Yy43Xg09y4"
      }
    },
    {
      "cell_type": "code",
      "execution_count": 2,
      "metadata": {
        "colab": {
          "base_uri": "https://localhost:8080/"
        },
        "id": "KhBkHkCk0R_2",
        "outputId": "258ca1c9-d354-4d81-9cd1-623687e7105e"
      },
      "outputs": [
        {
          "output_type": "stream",
          "name": "stdout",
          "text": [
            "holaaaaaaaaaaaaaa\n",
            "eres bb\n"
          ]
        }
      ],
      "source": [
        "def ñikiñero():\n",
        "  print('holaaaaaaaaaaaaaa')\n",
        "  print('eres bb')\n",
        "ñikiñero()\n",
        "  "
      ]
    },
    {
      "cell_type": "code",
      "source": [
        "ñikiñero()"
      ],
      "metadata": {
        "colab": {
          "base_uri": "https://localhost:8080/"
        },
        "id": "qlDxrz_z4wu3",
        "outputId": "2da4989a-33e8-4d69-bb8b-954711078379"
      },
      "execution_count": 3,
      "outputs": [
        {
          "output_type": "stream",
          "name": "stdout",
          "text": [
            "holaaaaaaaaaaaaaa\n",
            "eres bb\n"
          ]
        }
      ]
    },
    {
      "cell_type": "code",
      "source": [
        "a=int(input('ingrese un número bb'))\n",
        "b=int(input('ingrese un número bb'))\n",
        "c=int(input('ingrese un número bb'))\n",
        "if a!=b and a!=c and b!=c:\n",
        "  if a>b and a>c:\n",
        "    if b>c:\n",
        "      print(a,' es el mayor')\n",
        "      print(b,' es el medio')\n",
        "      print(c,' es el menor')\n",
        "    else:\n",
        "      print(a,' es el mayor')\n",
        "      print(c,' es el medio')\n",
        "      print(b,' es el menor')\n",
        "  elif b>a and b>c:\n",
        "    if a>c:\n",
        "      print(b,' es el mayor')\n",
        "      print(a,' es el medio')\n",
        "      print(c,' es el menor')\n",
        "    else:\n",
        "      print(b,' es el mayor')\n",
        "      print(c,' es el medio')\n",
        "      print(a,' es el menor')\n",
        "  if c>a and c>b:\n",
        "    if a>b:\n",
        "      print(c,' es el mayor')\n",
        "      print(a,' es el medio')\n",
        "      print(b,' es el menor')\n",
        "    else:\n",
        "      print(c,' es el mayor')\n",
        "      print(b,' es el medio')\n",
        "      print(a,' es el menor')\n",
        "else:\n",
        "  print('no poder hacer calculo')\n"
      ],
      "metadata": {
        "colab": {
          "base_uri": "https://localhost:8080/"
        },
        "id": "vPHIAvh-5Ag-",
        "outputId": "2f6e77ba-07c9-4a15-adf1-f44181744a97"
      },
      "execution_count": 6,
      "outputs": [
        {
          "output_type": "stream",
          "name": "stdout",
          "text": [
            "ingrese un número bb1\n",
            "ingrese un número bb2\n",
            "ingrese un número bb3\n",
            "3  es el mayor\n",
            "2  es el medio\n",
            "1  es el menor\n"
          ]
        }
      ]
    },
    {
      "cell_type": "code",
      "source": [
        "##sin parametro,con retorno\n",
        "def imprimir():\n",
        "  a=int(input('ingrese un número bb'))\n",
        "  b=int(input('ingrese un número bb'))\n",
        "  c=int(input('ingrese un número bb'))\n",
        "  return a,b,c"
      ],
      "metadata": {
        "id": "kq5yDPoO59VI"
      },
      "execution_count": 7,
      "outputs": []
    },
    {
      "cell_type": "code",
      "source": [
        "imprimir()\n",
        "if a!=b and a!=c and b!=c:\n",
        "  if a>b and a>c:\n",
        "    if b>c:\n",
        "      print(a,' es el mayor')\n",
        "      print(b,' es el medio')\n",
        "      print(c,' es el menor')\n",
        "    else:\n",
        "      print(a,' es el mayor')\n",
        "      print(c,' es el medio')\n",
        "      print(b,' es el menor')\n",
        "  elif b>a and b>c:\n",
        "    if a>c:\n",
        "      print(b,' es el mayor')\n",
        "      print(a,' es el medio')\n",
        "      print(c,' es el menor')\n",
        "    else:\n",
        "      print(b,' es el mayor')\n",
        "      print(c,' es el medio')\n",
        "      print(a,' es el menor')\n",
        "  if c>a and c>b:\n",
        "    if a>b:\n",
        "      print(c,' es el mayor')\n",
        "      print(a,' es el medio')\n",
        "      print(b,' es el menor')\n",
        "    else:\n",
        "      print(c,' es el mayor')\n",
        "      print(b,' es el medio')\n",
        "      print(a,' es el menor')\n",
        "else:\n",
        "  print('no poder hacer calculo')"
      ],
      "metadata": {
        "colab": {
          "base_uri": "https://localhost:8080/"
        },
        "id": "CpM5oQc17qN1",
        "outputId": "d2dcdf8f-0819-4a94-a242-b4b55a83d839"
      },
      "execution_count": 9,
      "outputs": [
        {
          "output_type": "stream",
          "name": "stdout",
          "text": [
            "ingrese un número bb3\n",
            "ingrese un número bb4\n",
            "ingrese un número bb6\n",
            "3  es el mayor\n",
            "2  es el medio\n",
            "1  es el menor\n"
          ]
        }
      ]
    },
    {
      "cell_type": "code",
      "source": [
        "##sin parametro,con retorno\n",
        "def imprimir(a,b,c):\n",
        "      print(a ,' es el mayor')\n",
        "      print(b ,' es el medio')\n",
        "      print(c ,' es el menor')\n",
        "      "
      ],
      "metadata": {
        "id": "r9UxbIPs9Ejw"
      },
      "execution_count": 20,
      "outputs": []
    },
    {
      "cell_type": "code",
      "source": [
        "def comparar(a,b,c):\n",
        "    if a!=b and a!=c and b!=c:\n",
        "        if a>b and a>c:\n",
        "          if b>c:\n",
        "            imprimir(a,b,c)\n",
        "          else:\n",
        "            imprimir(a,c,b)\n",
        "        elif b>a and b>c:\n",
        "          if a>c:\n",
        "            imprimir(b,a,c)\n",
        "          else:\n",
        "            imprimir(b,c,a)\n",
        "        if c>a and c>b:\n",
        "          if a>b:\n",
        "            imprimir(c,a,b)\n",
        "          else:\n",
        "            imprimir(c,b,a)\n",
        "    else:\n",
        "      print('no poder hacer calculo')"
      ],
      "metadata": {
        "id": "C89Xe597AzzN"
      },
      "execution_count": 21,
      "outputs": []
    },
    {
      "cell_type": "code",
      "source": [
        "a=int(input(' ingrese un número bb'))\n",
        "b=int(input(' ingrese un número bb'))\n",
        "c=int(input(' ingrese un número bb'))\n",
        "\n",
        "comparar(a,b,c)    \n"
      ],
      "metadata": {
        "colab": {
          "base_uri": "https://localhost:8080/"
        },
        "id": "kBt2M2AA9jRn",
        "outputId": "f922a273-2b93-4f2b-bcee-27a659ae5c77"
      },
      "execution_count": 22,
      "outputs": [
        {
          "output_type": "stream",
          "name": "stdout",
          "text": [
            " ingrese un número bb1\n",
            " ingrese un número bb2\n",
            " ingrese un número bb3\n",
            "3  es el mayor\n",
            "2  es el medio\n",
            "1  es el menor\n"
          ]
        }
      ]
    },
    {
      "cell_type": "code",
      "source": [],
      "metadata": {
        "id": "4nXBUZTnI56m"
      },
      "execution_count": null,
      "outputs": []
    }
  ]
}