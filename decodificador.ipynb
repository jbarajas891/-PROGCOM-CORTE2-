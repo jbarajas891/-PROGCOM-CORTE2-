{
  "nbformat": 4,
  "nbformat_minor": 0,
  "metadata": {
    "colab": {
      "provenance": []
    },
    "kernelspec": {
      "name": "python3",
      "display_name": "Python 3"
    },
    "language_info": {
      "name": "python"
    }
  },
  "cells": [
    {
      "cell_type": "code",
      "execution_count": null,
      "metadata": {
        "colab": {
          "base_uri": "https://localhost:8080/"
        },
        "id": "Z4jMZgNj7Yba",
        "outputId": "0dee0572-c6d2-439d-c9ef-cd9a53949971"
      },
      "outputs": [
        {
          "output_type": "stream",
          "name": "stdout",
          "text": [
            "Ingresa la palabra :cekcor\n",
            "duldes\n"
          ]
        }
      ],
      "source": [
        "\n",
        "def tunear(palabra):\n",
        "  desencriptada=\"\"\n",
        "  for letra in palabra:\n",
        "\n",
        "    if letra in \"a\": \n",
        "      desencriptada=desencriptada+\"o\"\n",
        "\n",
        "    elif letra in \"e\": \n",
        "      desencriptada=desencriptada+\"u\"\n",
        "\n",
        "    elif letra in \"i\": \n",
        "      desencriptada=desencriptada+\"a\"\n",
        "\n",
        "    elif letra in \"o\": \n",
        "      desencriptada=desencriptada+\"e\"\n",
        "\n",
        "    elif letra in \"u\": \n",
        "      desencriptada=desencriptada+\"i\"\n",
        "\n",
        "    elif letra in \"b\": \n",
        "      desencriptada=desencriptada+\"c\"\n",
        "\n",
        "    elif letra in \"c\": \n",
        "      desencriptada=desencriptada+\"d\"\n",
        "\n",
        "    elif letra in \"d\": \n",
        "      desencriptada=desencriptada+\"f\"\n",
        "    \n",
        "    elif letra in \"f\": \n",
        "      desencriptada=desencriptada+\"g\"\n",
        "\n",
        "    elif letra in \"g\":\n",
        "      desencriptada=desencriptada+\"h\"\n",
        "    \n",
        "    elif letra in \"h\": \n",
        "      desencriptada=desencriptada+\"j\"\n",
        "    \n",
        "    elif letra in \"j\": \n",
        "      desencriptada=desencriptada+\"k\"\n",
        "    \n",
        "    elif letra in \"k\": \n",
        "      desencriptada=desencriptada+\"l\"\n",
        "    \n",
        "    elif letra in \"l\":\n",
        "      desencriptada=desencriptada+\"m\"\n",
        "\n",
        "    elif letra in \"m\": \n",
        "      desencriptada=desencriptada+\"n\"\n",
        "    \n",
        "    elif letra in \"n\": \n",
        "      desencriptada=desencriptada+\"ñ\"\n",
        "    \n",
        "    elif letra in \"ñ\": \n",
        "      desencriptada=desencriptada+\"p\"\n",
        "\n",
        "    elif letra in \"p\":\n",
        "      desencriptada=desencriptada+\"q\"    \n",
        "    \n",
        "    elif letra in \"q\":\n",
        "      desencriptada=desencriptada+\"r\" \n",
        "\n",
        "    elif letra in \"r\": # r se vuelve s\n",
        "      desencriptada=desencriptada+\"s\"   \n",
        "\n",
        "    elif letra in \"s\": # s se vuelve t\n",
        "      desencriptada=desencriptada+\"t\"  \n",
        "\n",
        "    elif letra in \"t\": # t se vuelve v\n",
        "      desencriptada=desencriptada+\"v\" \n",
        "\n",
        "    elif letra in \"v\": # v se vuelve w\n",
        "      desencriptada=desencriptada+\"w\" \n",
        "\n",
        "    elif letra in \"w\": # w se vuelve x\n",
        "      desencriptada=desencriptada+\"x\" \n",
        "\n",
        "    elif letra in \"x\": # x se vuelve y\n",
        "      desencriptada=desencriptada+\"y\" \n",
        "\n",
        "    elif letra in \"y\": # y se vuelve z\n",
        "      desencriptada=desencriptada+\"z\" \n",
        "\n",
        "    elif letra in \"z\": # z se vuelve b\n",
        "      desencriptada=desencriptada+\"b\" \n",
        "\n",
        "  return desencriptada\n",
        "\n",
        "print(tunear(input(\"Ingresa la palabra :\")))\n"
      ]
    }
  ]
}