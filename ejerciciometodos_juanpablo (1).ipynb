{
  "nbformat": 4,
  "nbformat_minor": 0,
  "metadata": {
    "colab": {
      "provenance": []
    },
    "kernelspec": {
      "name": "python3",
      "display_name": "Python 3"
    },
    "language_info": {
      "name": "python"
    }
  },
  "cells": [
    {
      "cell_type": "markdown",
      "source": [
        "#ejercicios métodos"
      ],
      "metadata": {
        "id": "bQCaX4DynCko"
      }
    },
    {
      "cell_type": "code",
      "source": [
        "#1\n",
        "def npc(a,b):\n",
        "    if a>b:\n",
        "      print(f'{a} es el mayor') \n",
        "    print(f'{b} es el mayor') "
      ],
      "metadata": {
        "id": "8XHzVwEjnFmX"
      },
      "execution_count": 10,
      "outputs": []
    },
    {
      "cell_type": "code",
      "source": [
        "npc (4,5)"
      ],
      "metadata": {
        "colab": {
          "base_uri": "https://localhost:8080/"
        },
        "id": "ZVpIR34lnYCv",
        "outputId": "b3853b55-b96a-4b33-8145-996a7bbabda7"
      },
      "execution_count": 11,
      "outputs": [
        {
          "output_type": "stream",
          "name": "stdout",
          "text": [
            "5 es el mayor\n"
          ]
        }
      ]
    },
    {
      "cell_type": "code",
      "source": [
        "##2\n",
        "def mayor(x,y,z):\n",
        "    npc(x,npc(y,z))"
      ],
      "metadata": {
        "id": "4_zwDudRntD3"
      },
      "execution_count": 12,
      "outputs": []
    },
    {
      "cell_type": "code",
      "source": [
        "mayor(1,2,3)"
      ],
      "metadata": {
        "id": "pcpGsZoEnxI_"
      },
      "execution_count": null,
      "outputs": []
    },
    {
      "cell_type": "code",
      "source": [
        "###3\n",
        "listas=[1,2,3]\n",
        "def suma():\n",
        "  sum(listas)\n",
        "  print(sum(listas))\n",
        "suma()"
      ],
      "metadata": {
        "colab": {
          "base_uri": "https://localhost:8080/"
        },
        "id": "NXGmDm_LpzF2",
        "outputId": "42458e8c-25a1-414a-a29f-f17674cc7f6e"
      },
      "execution_count": 19,
      "outputs": [
        {
          "output_type": "stream",
          "name": "stdout",
          "text": [
            "6\n"
          ]
        }
      ]
    },
    {
      "cell_type": "code",
      "source": [
        "####4\n",
        "listass=[1,2,3,4]\n",
        "def suma2():\n",
        "  sum(listass)\n",
        "  print(sum(listass))\n",
        "suma2()"
      ],
      "metadata": {
        "colab": {
          "base_uri": "https://localhost:8080/"
        },
        "id": "IWwXQYTdsVmO",
        "outputId": "8ff1b527-1e7a-4d21-a686-9ba6ebe44d4f"
      },
      "execution_count": 20,
      "outputs": [
        {
          "output_type": "stream",
          "name": "stdout",
          "text": [
            "10\n"
          ]
        }
      ]
    },
    {
      "cell_type": "code",
      "source": [
        "#####5\n",
        "listasss=[1,2,3,4,5]\n",
        "def suma3():\n",
        "  sum(listasss)\n",
        "  print(sum(listasss))\n",
        "suma3()"
      ],
      "metadata": {
        "colab": {
          "base_uri": "https://localhost:8080/"
        },
        "id": "23egwj-Msk1t",
        "outputId": "2f0fa41d-45a1-4028-dcc2-26dfdc53e756"
      },
      "execution_count": 21,
      "outputs": [
        {
          "output_type": "stream",
          "name": "stdout",
          "text": [
            "15\n"
          ]
        }
      ]
    },
    {
      "cell_type": "code",
      "source": [
        "#####6\n",
        "multista=[1,2,3]\n",
        "def multi():\n",
        "  R1= multista[0]*multista[1]*multista[2]\n",
        "  print(R1) \n",
        "\n",
        "multi()\n"
      ],
      "metadata": {
        "colab": {
          "base_uri": "https://localhost:8080/"
        },
        "id": "M0md_ZWIs0HF",
        "outputId": "e15dc3ae-cf55-4cb6-f76e-77c88ed203d3"
      },
      "execution_count": 26,
      "outputs": [
        {
          "output_type": "stream",
          "name": "stdout",
          "text": [
            "6\n"
          ]
        }
      ]
    },
    {
      "cell_type": "code",
      "source": [
        "######7\n",
        "multista2=[1,2,3,4]\n",
        "def multi2():\n",
        "  R11= multista2[0]*multista2[1]*multista2[2]*multista2[3]\n",
        "  print(R11) \n",
        "\n",
        "multi2()\n"
      ],
      "metadata": {
        "colab": {
          "base_uri": "https://localhost:8080/"
        },
        "id": "BI6XqYReuoZx",
        "outputId": "a4fa4ce8-d89c-48ec-c9f4-73d6e72e0d50"
      },
      "execution_count": 28,
      "outputs": [
        {
          "output_type": "stream",
          "name": "stdout",
          "text": [
            "24\n"
          ]
        }
      ]
    },
    {
      "cell_type": "code",
      "source": [
        "######8\n",
        "multista3=[1,2,3,-4]\n",
        "def multi3():\n",
        "  R111= multista3[0]*multista3[1]*multista3[2]*multista3[3]\n",
        "  print(R111) \n",
        "\n",
        "multi3()"
      ],
      "metadata": {
        "colab": {
          "base_uri": "https://localhost:8080/"
        },
        "id": "0k-IP-X6vGex",
        "outputId": "a2c3bae9-6236-4559-ebfd-3fe7a619fdfe"
      },
      "execution_count": 31,
      "outputs": [
        {
          "output_type": "stream",
          "name": "stdout",
          "text": [
            "-24\n"
          ]
        }
      ]
    },
    {
      "cell_type": "code",
      "source": [
        "######9\n",
        "b='hola'\n",
        "def invierte():\n",
        "  inver=b[3]+b[2]+b[1]+b[0]\n",
        "  print(inver)\n",
        "invierte()"
      ],
      "metadata": {
        "colab": {
          "base_uri": "https://localhost:8080/"
        },
        "id": "o3J_Ve90vvJx",
        "outputId": "dc72aa06-5717-44e5-ead0-3057efdb3e34"
      },
      "execution_count": 35,
      "outputs": [
        {
          "output_type": "stream",
          "name": "stdout",
          "text": [
            "aloh\n"
          ]
        }
      ]
    },
    {
      "cell_type": "code",
      "source": [
        "######10\n",
        "def fact(n):\n",
        "  facto=1\n",
        "  while(n>1):\n",
        "    facto *=n\n",
        "    n-=1\n",
        "  return facto\n",
        "n=int(input('su merced ingrese un número'))\n",
        "print('el factoria de ', n ,'es',fact(n))\n"
      ],
      "metadata": {
        "colab": {
          "base_uri": "https://localhost:8080/"
        },
        "id": "m3thLMVIwraY",
        "outputId": "e892d9b3-96d9-4734-fc8f-2bf61fb2dcd9"
      },
      "execution_count": 37,
      "outputs": [
        {
          "output_type": "stream",
          "name": "stdout",
          "text": [
            "su merced ingrese un número3\n",
            "el factoria de  3 es 6\n"
          ]
        }
      ]
    },
    {
      "cell_type": "code",
      "source": [
        "#####11\n",
        "rango=[1,2,3,4,5,6,7,8,9,10]\n",
        "def cuentalaleyenda():\n",
        "  be=int(input('su merced ingrese un número '))\n",
        "  if be in rango:\n",
        "    print('su merced el número ',be,' está en e rango')\n",
        "  else:\n",
        "    print('no esta en el rango')\n",
        "cuentalaleyenda()\n"
      ],
      "metadata": {
        "colab": {
          "base_uri": "https://localhost:8080/"
        },
        "id": "xYmU9Ceeyal3",
        "outputId": "3ac4dbe7-ba2f-4197-e23b-7b74726231f0"
      },
      "execution_count": 40,
      "outputs": [
        {
          "output_type": "stream",
          "name": "stdout",
          "text": [
            "su merced ingrese un número 11\n",
            "no esta en el rango\n"
          ]
        }
      ]
    },
    {
      "cell_type": "code",
      "source": [
        "#######12\n",
        "def lola():\n",
        "  l=input('ingrese una oración')"
      ],
      "metadata": {
        "id": "Sgse4L9Vzx-j"
      },
      "execution_count": null,
      "outputs": []
    },
    {
      "cell_type": "code",
      "source": [
        "#######13"
      ],
      "metadata": {
        "id": "6J2t3qGe_nfG"
      },
      "execution_count": null,
      "outputs": []
    },
    {
      "cell_type": "code",
      "source": [
        "#####14\n",
        "cr1=int(input('escriba un número'))\n",
        "cr2=int(input('escriba un número'))\n",
        "cr3=int(input('escriba un número'))\n",
        "lisa=[cr1,cr2,cr3]\n",
        "def siuuu(cr1,cr2,cr3):\n",
        "  if (cr1%2==0):\n",
        "    print(cr1,'es par')\n",
        "  if (cr2%2==0):\n",
        "    print(cr2,'es par') \n",
        "  if (cr3%2==0):\n",
        "    print(cr3,'es par') \n",
        "siuuu(cr1,cr2,cr3)\n"
      ],
      "metadata": {
        "colab": {
          "base_uri": "https://localhost:8080/"
        },
        "id": "S1t1buHu4KFO",
        "outputId": "9eaa076a-fa7d-48e7-b71f-90733faea309"
      },
      "execution_count": 49,
      "outputs": [
        {
          "output_type": "stream",
          "name": "stdout",
          "text": [
            "escriba un núrmero1\n",
            "escriba un núrmero2\n",
            "escriba un núrmero3\n",
            "2 es par\n"
          ]
        }
      ]
    },
    {
      "cell_type": "code",
      "source": [
        "#####15\n",
        "c1=int(input('escriba un número'))\n",
        "c2=int(input('escriba un número'))\n",
        "c3=int(input('escriba un número'))\n",
        "lis=[c1,c2,c3]\n",
        "def siwi(c1,c2,c3):\n",
        "  print(f'{c2}')\n",
        "\n",
        "siwi(c1,c2,c3)"
      ],
      "metadata": {
        "colab": {
          "base_uri": "https://localhost:8080/"
        },
        "id": "3e4qD-455gAL",
        "outputId": "7891462d-5e2b-4359-cc92-6ce4f0a18316"
      },
      "execution_count": 50,
      "outputs": [
        {
          "output_type": "stream",
          "name": "stdout",
          "text": [
            "escriba un número1\n",
            "escriba un número2\n",
            "escriba un número3\n",
            "2\n"
          ]
        }
      ]
    },
    {
      "cell_type": "code",
      "source": [
        "####16\n",
        "def perfec(num):\n",
        "  suma = 0\n",
        "  for i in range(1, num):\n",
        "    if (num%(i) == 0 ):\n",
        "      suma += (i)\n",
        "  if num == suma:\n",
        "    return True\n",
        "  else:\n",
        "    return False\n",
        "num = int(input('ingrese un número'))\n",
        "if perfec(num):\n",
        "  print(' es un número perfecto')\n",
        "else:\n",
        "  print('no es prefecto')\n",
        "\n"
      ],
      "metadata": {
        "colab": {
          "base_uri": "https://localhost:8080/"
        },
        "id": "jbd4I-vU8-Ea",
        "outputId": "06e5e3eb-2b49-4b64-e419-d1e57ddc9cc3"
      },
      "execution_count": 52,
      "outputs": [
        {
          "output_type": "stream",
          "name": "stdout",
          "text": [
            "ingrese un número6\n",
            " es un número perfecto\n"
          ]
        }
      ]
    },
    {
      "cell_type": "code",
      "source": [
        "########17\n",
        "print(\"q'hubo bebe ingrese una palabra\")\n",
        "p=str(input())\n",
        "def palindro():\n",
        "  if (p) == (p)[::-1]:\n",
        "    print(p,' si es palídromo')\n",
        "  else:\n",
        "    print('no es palíndromo')\n",
        "palindro()"
      ],
      "metadata": {
        "colab": {
          "base_uri": "https://localhost:8080/"
        },
        "id": "ke3MujK_2yjp",
        "outputId": "7a77013d-ae42-4186-c3bf-c86951140ef9"
      },
      "execution_count": 45,
      "outputs": [
        {
          "output_type": "stream",
          "name": "stdout",
          "text": [
            "q'hubo bebe ingrese una palabra\n",
            "ana\n",
            "ana  si es palídromo\n"
          ]
        }
      ]
    },
    {
      "cell_type": "code",
      "source": [
        "###18\n",
        "def pascal():\n",
        "  n=int(input('digalo'))\n",
        "  if n<2:\n",
        "     print(1,1)\n",
        "\n",
        "  else:\n",
        "    print(1,n,(2*(n-1)),n,1)\n",
        "pascal()"
      ],
      "metadata": {
        "colab": {
          "base_uri": "https://localhost:8080/"
        },
        "id": "BZKWNBY1-XCo",
        "outputId": "cbe13088-76c5-46ff-8ccb-ff52a7cede2d"
      },
      "execution_count": 59,
      "outputs": [
        {
          "output_type": "stream",
          "name": "stdout",
          "text": [
            "digalo4\n",
            "1 4 6 4 1\n"
          ]
        }
      ]
    },
    {
      "cell_type": "code",
      "source": [
        "###19\n",
        "def mayus():\n",
        "  print('ingrese una frase')\n",
        "  pal=str(input())\n",
        "  pal.capitalize()\n",
        "  print(pal.capitalize())\n",
        "mayus()"
      ],
      "metadata": {
        "colab": {
          "base_uri": "https://localhost:8080/"
        },
        "id": "rQD6iyUF-YyJ",
        "outputId": "deee58cf-01c8-425a-d231-7794c3748303"
      },
      "execution_count": 57,
      "outputs": [
        {
          "output_type": "stream",
          "name": "stdout",
          "text": [
            "ingrese una frase\n",
            "hola bb\n",
            "Hola bb\n"
          ]
        }
      ]
    },
    {
      "cell_type": "code",
      "source": [
        "###20"
      ],
      "metadata": {
        "id": "jTd9zX9L-v3_"
      },
      "execution_count": null,
      "outputs": []
    },
    {
      "cell_type": "code",
      "source": [
        "#####1f\n"
      ],
      "metadata": {
        "id": "rF6ojYpT_4K-"
      },
      "execution_count": null,
      "outputs": []
    }
  ]
}