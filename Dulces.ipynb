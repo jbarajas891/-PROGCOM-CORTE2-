{
  "nbformat": 4,
  "nbformat_minor": 0,
  "metadata": {
    "colab": {
      "provenance": []
    },
    "kernelspec": {
      "name": "python3",
      "display_name": "Python 3"
    },
    "language_info": {
      "name": "python"
    }
  },
  "cells": [
    {
      "cell_type": "code",
      "execution_count": null,
      "metadata": {
        "colab": {
          "base_uri": "https://localhost:8080/"
        },
        "id": "sGXKg2kTMyDL",
        "outputId": "65ed6631-be89-4a0e-d43d-6a70cb5de6c9"
      },
      "outputs": [
        {
          "output_type": "stream",
          "name": "stdout",
          "text": [
            ".........truco\n",
            "Cuál es tu nombremaricon\n",
            "Cuantos años tienes?6\n",
            "Cuàl es tu altura en cm?125\n",
            "['🧁\\t', '🍫', '🍫', '🍭', '🍭', '🍫', '🍫', '🧁\\t', '🧁\\t', '🍫', '🍬\\t', '🧁\\t', '🍭', '🍭']\n"
          ]
        }
      ],
      "source": [
        "import random\n",
        "dulces=[]\n",
        "tipos_de_dulces=[\"\\U0001F9C1\t\",\"\\U0001F36B\",\"\\U0001F36C\t\",\"\\U0001F36D\"]\n",
        "x=input(\".........\").lower()\n",
        "if x ==\"truco\":\n",
        "  preguntas()"
      ]
    },
    {
      "cell_type": "code",
      "source": [
        "def preguntas():\n",
        "  m=input(\"Cuál es tu nombre\")\n",
        "  ñ=int(len(m))\n",
        "  for i in range(0,ñ):\n",
        "    dulces.append(random.choice(tipos_de_dulces))\n",
        "\n",
        "  y=int(input(\"Cuantos años tienes?\"))\n",
        "  if y>=3 and y<=10:\n",
        "    w=int((y/3))\n",
        "    for i in range(0,w):\n",
        "      dulces.append(random.choice(tipos_de_dulces))\n",
        "  else:\n",
        "    print('tas chico')\n",
        "  z=int(input(\"Cuàl es tu altura en cm?\"))\n",
        "  if z>=50 and z<=150:\n",
        "    p=int(((z/50)*2))\n",
        "    for i in range(0,p):\n",
        "      dulces.append(random.choice(tipos_de_dulces))\n",
        "  print(dulces)"
      ],
      "metadata": {
        "id": "SWE3YVLhNEei"
      },
      "execution_count": null,
      "outputs": []
    },
    {
      "cell_type": "code",
      "source": [
        "print(\"\\U0001F4A8\")"
      ],
      "metadata": {
        "colab": {
          "base_uri": "https://localhost:8080/"
        },
        "id": "I8ozWvSaX8sw",
        "outputId": "0f8f069c-f2a2-41bc-a2e9-6d3958810396"
      },
      "execution_count": null,
      "outputs": [
        {
          "output_type": "stream",
          "name": "stdout",
          "text": [
            "💨\n"
          ]
        }
      ]
    }
  ]
}