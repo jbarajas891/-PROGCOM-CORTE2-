{
  "nbformat": 4,
  "nbformat_minor": 0,
  "metadata": {
    "colab": {
      "provenance": [],
      "collapsed_sections": []
    },
    "kernelspec": {
      "name": "python3",
      "display_name": "Python 3"
    },
    "language_info": {
      "name": "python"
    }
  },
  "cells": [
    {
      "cell_type": "code",
      "execution_count": null,
      "metadata": {
        "colab": {
          "base_uri": "https://localhost:8080/"
        },
        "id": "_r22xmNipzYa",
        "outputId": "4393713c-4809-4d64-aefd-b121e2177e52"
      },
      "outputs": [
        {
          "output_type": "stream",
          "name": "stdout",
          "text": [
            "ingrese los numeros de los que quieres hacer un descuento\n",
            "si no desea ingresar mas datos  escribe 0100\n",
            "si no desea ingresar mas datos  escribe 0300\n",
            "si no desea ingresar mas datos  escribe 00\n",
            "ingresa el descuento sin el %\n",
            "None20\n",
            "este es el valor que le debes restar  [20.0, 60.0]\n"
          ]
        }
      ],
      "source": [
        "#ejercicio juaN Pablo\n",
        "precios =[]\n",
        "print('ingrese los numeros de los que quieres hacer un descuento')\n",
        "\n",
        "det=True\n",
        "while det:\n",
        "  num=int(input( ' si no desea ingresar mas datos  escribe 0 '))\n",
        "  precios.append(num)\n",
        "  det = False if num == 0 else num>0\n",
        "des=float(input('ingresa el descuento sin el %'))\n",
        "\n",
        "presdes=[precio*des/100 for precio in precios]\n",
        "presdes.pop(-1)\n",
        "print('este es el valor que le debes restar ', presdes)\n",
        "\n",
        "\n"
      ]
    },
    {
      "cell_type": "markdown",
      "source": [
        "#sinatxis Newlist=[expresion(elemento)for elemento N operacion y luego la condición]\n",
        "##ventajas:\n",
        "#más eficiente en tiempo y espacio que los bucles requiere menos líneas de código transforma una declaracion iterativa en una fórmula"
      ],
      "metadata": {
        "id": "jCHPxBv3_Nnr"
      }
    },
    {
      "cell_type": "code",
      "source": [
        "números=[(n*2)for n in range()1,9]\n",
        "print(números)\n"
      ],
      "metadata": {
        "id": "eJRKD23XtOOM"
      },
      "execution_count": null,
      "outputs": []
    },
    {
      "cell_type": "code",
      "source": [
        "cadenas=[\"*\" * n for n in range(1,6)]\n",
        "print(cadenas)"
      ],
      "metadata": {
        "id": "vpHfuz_iAjDo"
      },
      "execution_count": null,
      "outputs": []
    },
    {
      "cell_type": "code",
      "source": [
        "número=[2,5,6,9,10]\n",
        "cuadrados=[(n**2) for n in número]\n",
        "print(cuadrados)"
      ],
      "metadata": {
        "id": "cpWhhslHBfV_"
      },
      "execution_count": null,
      "outputs": []
    },
    {
      "cell_type": "code",
      "source": [
        "cadena= \"programación\"\n",
        "letras=[]\n",
        "for letra  in cadena:\n",
        "  letras.append(letra)\n",
        "\n",
        "print(letras)"
      ],
      "metadata": {
        "id": "mq2D9jJmBg1X"
      },
      "execution_count": null,
      "outputs": []
    },
    {
      "cell_type": "code",
      "source": [
        "cadena = \"python\"\n",
        "letras =[ letra for letra in cadena]\n",
        "print(letras)"
      ],
      "metadata": {
        "id": "Gle5s-b1Cd2S"
      },
      "execution_count": null,
      "outputs": []
    },
    {
      "cell_type": "code",
      "source": [
        "#EJERCICIO SAMUEL\n",
        "x=input('ingrese la palabra qeu desee:')\n",
        "lista=[n for n in x]\n",
        "print(lista)"
      ],
      "metadata": {
        "colab": {
          "base_uri": "https://localhost:8080/"
        },
        "id": "qtkNC4c9CwuQ",
        "outputId": "ae720070-adc5-4538-8978-7f48c0262711"
      },
      "execution_count": null,
      "outputs": [
        {
          "output_type": "stream",
          "name": "stdout",
          "text": [
            "ingrese la palabra qeu desee:hola\n",
            "['h', 'o', 'l', 'a']\n"
          ]
        }
      ]
    },
    {
      "cell_type": "code",
      "source": [
        "#ejercicio amado\n",
        "lista1=[8,5,4,10,2]\n",
        "lista2=[elementos**2 for elementos in lista1 if elementos %2==0]\n",
        "\n",
        "print(' imprime los números pares de la lista',lista2)"
      ],
      "metadata": {
        "colab": {
          "base_uri": "https://localhost:8080/"
        },
        "id": "mbuGNpq1DCXI",
        "outputId": "a7ff545e-4d6c-4e2e-c07e-ad6e727e5a10"
      },
      "execution_count": null,
      "outputs": [
        {
          "output_type": "stream",
          "name": "stdout",
          "text": [
            " imprime los números pares de la lista [64, 16, 100, 4]\n"
          ]
        }
      ]
    },
    {
      "cell_type": "code",
      "source": [
        "#ejercicio ivan arengas\n",
        "import random\n",
        "capitan= [random.randrange(1,30) for i in range(9)]\n",
        "print('imprime números aleatorios de la lísta', str(capitan))"
      ],
      "metadata": {
        "colab": {
          "base_uri": "https://localhost:8080/"
        },
        "id": "yMQbeZ3RDy3k",
        "outputId": "31eaadfd-2c4f-4a0f-af06-d56f7e28e9c8"
      },
      "execution_count": null,
      "outputs": [
        {
          "output_type": "stream",
          "name": "stdout",
          "text": [
            "imprime números aleatorios de la lísta [16, 9, 9, 17, 8, 29, 14, 14, 20]\n"
          ]
        }
      ]
    },
    {
      "cell_type": "code",
      "source": [
        "#ejercicio julio guzman\n",
        "#tradicional\n",
        "n= int(input('ingresa el numero de palabras que vas a ingresar'))\n",
        "\n",
        "lista=[]\n",
        "lista1=[]\n",
        "for i in range(n):\n",
        "  l=input('ingrese la palabra')\n",
        "  if l.isupper():lista.append(l)\n",
        "  if l.islower():lista1.append(l)\n",
        "print(lista)\n",
        "print(lista1)\n"
      ],
      "metadata": {
        "id": "H4onIZTkHnu-",
        "colab": {
          "base_uri": "https://localhost:8080/"
        },
        "outputId": "6281244a-b56e-43a7-ba47-aa36f7b2fdbf"
      },
      "execution_count": 5,
      "outputs": [
        {
          "output_type": "stream",
          "name": "stdout",
          "text": [
            "ingresa el numero de palabras que vas a ingresar2\n",
            "ingrese la palabrazv\n",
            "ingrese la palabradsfAS\n",
            "[]\n",
            "['zv']\n"
          ]
        }
      ]
    },
    {
      "cell_type": "code",
      "source": [
        "#ejercicio julio guzman\n",
        "#COMPRENSIÓN\n",
        "n= int(input('ingresa el número de palabras que vas a ingresar'))\n",
        "lista3=[]\n",
        "for i in range(n):\n",
        "  l=input('ingrese la palabra')\n",
        "  lista3.append(l)\n",
        "lista_comprimida_M=[elemento for elemento in lista3 if elemento.isupper()]\n",
        "lista_comprimida_m=[elemento for elemento in lista3 if elemento.islower()]\n",
        "print('las palabras escritas en mayúscula ',lista_comprimida_M)\n",
        "print('las palabras escritas en minúsculas ',lista_comprimida_m)\n"
      ],
      "metadata": {
        "colab": {
          "base_uri": "https://localhost:8080/"
        },
        "id": "SbZxhw4T0G0N",
        "outputId": "2718fe5c-afcf-489f-bb48-5967dcc6fd39"
      },
      "execution_count": 9,
      "outputs": [
        {
          "output_type": "stream",
          "name": "stdout",
          "text": [
            "ingresa el número de palabras que vas a ingresar3\n",
            "ingrese la palabradffdd\n",
            "ingrese la palabraKJHKH\n",
            "ingrese la palabralkkk\n",
            "las palabras escritas en mayúscula  ['KJHKH']\n",
            "las palabras escritas en minúsculas  ['dffdd', 'lkkk']\n"
          ]
        }
      ]
    },
    {
      "cell_type": "code",
      "source": [
        "#ejercicio julio guzman\n",
        "#lambda\n",
        "\n",
        "lista_comprimida_M=list(map(lambda elemento:True if elemento.isupper()else False,lista3))\n",
        "lista_comprimida_m=list(map(lambda elemento:True if elemento.islower()else False,lista3))\n",
        "print('las palabras escritas en mayúscula ',lista_comprimida_M)\n",
        "print('las palabras escritas en minúsculas ',lista_comprimida_m)"
      ],
      "metadata": {
        "colab": {
          "base_uri": "https://localhost:8080/"
        },
        "id": "2Zv9xXfI3Myl",
        "outputId": "f7da3bd6-4fd8-4ee0-f5b0-cdc7320e3919"
      },
      "execution_count": 10,
      "outputs": [
        {
          "output_type": "stream",
          "name": "stdout",
          "text": [
            "las palabras escritas en mayúscula  [False, True, False]\n",
            "las palabras escritas en minúsculas  [True, False, True]\n"
          ]
        }
      ]
    },
    {
      "cell_type": "code",
      "source": [
        "##ejercicio karina\n",
        "def pali(word):\n",
        "  rev=word[::-1]\n",
        "  return word==rev\n",
        "word=(input(' Digite una palabra ')).lower()\n",
        "final= pali(word)\n",
        "if final == True:\n",
        "  print(f'{word} es una palabra palindromo')\n",
        "else:\n",
        "  print(f'{word} no es una palabra palindromo')\n",
        "\n",
        "  "
      ],
      "metadata": {
        "colab": {
          "base_uri": "https://localhost:8080/"
        },
        "id": "-aMk4WkT6Qtn",
        "outputId": "fac76f22-808f-4b1a-85f3-9f16da6f9b90"
      },
      "execution_count": 12,
      "outputs": [
        {
          "output_type": "stream",
          "name": "stdout",
          "text": [
            " Digite una palabra ana\n",
            "ana es una palabra palindromo\n"
          ]
        }
      ]
    },
    {
      "cell_type": "code",
      "source": [
        "##ejercicio karina\n",
        "#lambda\n",
        "c=int(input('ingrese la cantidad de elementos que deseas ingresar: '))\n",
        "lista1=[]\n",
        "for i in range(c): \n",
        "  word=input('Escribe aqui: ').lower()\n",
        "  lista1.append(word)\n",
        "print(lista1)\n",
        "lista2=list((map(lambda x:True if x==x[::-1] else False,lista1)))\n",
        "lista2\n"
      ],
      "metadata": {
        "colab": {
          "base_uri": "https://localhost:8080/"
        },
        "id": "ICt7FZzG7wIE",
        "outputId": "17a47223-e0a7-49ce-f05d-04e6c0b22eae"
      },
      "execution_count": 16,
      "outputs": [
        {
          "output_type": "stream",
          "name": "stdout",
          "text": [
            "ingrese la cantidad de elementos que deseas ingresar: 2\n",
            "Escribe aqui: ana\n",
            "Escribe aqui: somos\n",
            "['ana', 'somos']\n"
          ]
        },
        {
          "output_type": "execute_result",
          "data": {
            "text/plain": [
              "[True, True]"
            ]
          },
          "metadata": {},
          "execution_count": 16
        }
      ]
    },
    {
      "cell_type": "code",
      "source": [
        "##ejercicio manuel\n",
        "#Ejercicio 8 Manuel\n",
        "import random\n",
        "#Declaro la lista del inventario\n",
        "stock=['martillo','alicate','clavo','perno']\n",
        "#Declaro la lista que me dice si el objeto es de buena calidad o mala\n",
        "cality=['GOOD','FAIL']\n",
        "a=[]\n",
        "#Este for es para agregarle una calidad usando random\n",
        "for i in stock:\n",
        "  #La variablea guarda por ejemplo: martilloGOOD que significa que es de buena calidad\n",
        "  a.append((i, random.choice(cality)))\n",
        "#Defino las listas que me van a guardar cuáles elementos tienen buena calidad o no\n",
        "listg=[]\n",
        "listf=[]\n",
        "#Aquí guardo en cada lista los de la calidad y los malucos\n",
        "for x in a:\n",
        "  if 'GOOD' in x:\n",
        "    listg.append(x)\n",
        "    #Uso elif para ver mejor el funcionamiento\n",
        "  elif 'FAIL' in x:\n",
        "    listf.append(x)\n",
        "print(listf)\n",
        "print(listg)\n"
      ],
      "metadata": {
        "colab": {
          "base_uri": "https://localhost:8080/"
        },
        "id": "N25VAbYU_nOy",
        "outputId": "15af0a06-0408-442a-d1fc-12c667e70278"
      },
      "execution_count": 17,
      "outputs": [
        {
          "output_type": "stream",
          "name": "stdout",
          "text": [
            "[('martillo', 'FAIL'), ('clavo', 'FAIL')]\n",
            "[('alicate', 'GOOD'), ('perno', 'GOOD')]\n"
          ]
        }
      ]
    },
    {
      "cell_type": "code",
      "source": [
        "#Por comprensión manuel\n",
        "import random\n",
        "stock=['martillo','alicate','clavo','perno']\n",
        "cality=['GOOD','FAIL']\n",
        "a=[]\n",
        "for i in stock:\n",
        "  a.append((i,random.choice(cality)))\n",
        "listg=[]\n",
        "listf=[]\n",
        "listg=[x for x in a if 'GOOD' in x]\n",
        "listf=[x for x in a if 'FAIL' in x]\n",
        "print(listf,listg)\n"
      ],
      "metadata": {
        "colab": {
          "base_uri": "https://localhost:8080/"
        },
        "id": "gzswvbqVCZ3D",
        "outputId": "967844aa-a227-404d-f6ee-99eb56168334"
      },
      "execution_count": 18,
      "outputs": [
        {
          "output_type": "stream",
          "name": "stdout",
          "text": [
            "[('martillo', 'FAIL'), ('alicate', 'FAIL')] [('clavo', 'GOOD'), ('perno', 'GOOD')]\n"
          ]
        }
      ]
    },
    {
      "cell_type": "code",
      "source": [],
      "metadata": {
        "id": "ZLkc7xIvHkAE"
      },
      "execution_count": null,
      "outputs": []
    },
    {
      "cell_type": "code",
      "source": [
        "#ejercicio paula\n",
        "def capitalizar(oracion):\n",
        "    lista2=[]\n",
        "    for l in n1:\n",
        "      lista2.append(l)\n",
        "      lista2[0]=n1[0].upper()\n",
        "    print(''.join(lista2))\n",
        "    "
      ],
      "metadata": {
        "id": "ZUjReOo4Hkfs"
      },
      "execution_count": null,
      "outputs": []
    },
    {
      "cell_type": "code",
      "source": [
        "n1=input('ingresa una oración')\n",
        "oracion=capitalizar(n1)\n",
        "oracion\n"
      ],
      "metadata": {
        "id": "yu7lsx0pHtJq"
      },
      "execution_count": null,
      "outputs": []
    },
    {
      "cell_type": "code",
      "source": [
        "listap=[]\n",
        "n= input('ingrese una oración')\n",
        "for l in n:\n",
        "  listap.append(l)\n",
        "  listap[0]=n[0].upper()\n",
        "print(''.join(listap))"
      ],
      "metadata": {
        "id": "A9ciQApIIkks"
      },
      "execution_count": null,
      "outputs": []
    },
    {
      "cell_type": "code",
      "source": [
        "n3= lambda x:x[0].upper()+x[1::]\n",
        "m=n3(n)\n",
        "n"
      ],
      "metadata": {
        "id": "s4Ma7Ku0PFRv"
      },
      "execution_count": null,
      "outputs": []
    },
    {
      "cell_type": "code",
      "source": [
        "#ejercicio francisco\n",
        "import random \n",
        "palabras = [\"a\", \"e\",\"i\",\"o\",\"u\"]\n",
        "numeros =[1,2,3,4,5,6,7,8,9]\n",
        "generador=[]\n",
        "for i in range(0,5):\n",
        " generador.append(random.choice(palabras))\n",
        " generador.append(random.choice(numeros))\n",
        "print(generador)"
      ],
      "metadata": {
        "id": "yGpvIwj5LXVj"
      },
      "execution_count": null,
      "outputs": []
    },
    {
      "cell_type": "code",
      "source": [
        "\n",
        "import random\n",
        "x=input(\"Ingrese la palabra o relación que desea la contraseña\")\n",
        "palabra = [letra for letra in x]\n",
        "números =[num for num in range (0,10)]\n",
        "generador=[random.choice(números) or random.choice(palabra) for num in range(0,11)]\n",
        "print(generador)\n"
      ],
      "metadata": {
        "id": "CJJ4iZXOLNY8"
      },
      "execution_count": null,
      "outputs": []
    },
    {
      "cell_type": "code",
      "source": [],
      "metadata": {
        "id": "Ar1DK1EQLTE9"
      },
      "execution_count": null,
      "outputs": []
    },
    {
      "cell_type": "code",
      "source": [
        "import random\n",
        "x=input(\"Ingrese la palabra o relación que desea la contraseña\")\n",
        "palabras = [letra for letra in x]\n",
        "numeros =[num for num in range (0,10)]\n",
        "generador=[random.choice(list(map(lambda x:x,numeros))) or random.choice(sorted(palabras, key=lambda letra:letra in palabras)) for num in range(0,11)]\n",
        "print(generador)\n",
        "\n"
      ],
      "metadata": {
        "colab": {
          "base_uri": "https://localhost:8080/"
        },
        "id": "Mww0P2N6LP9E",
        "outputId": "2d56f256-fc60-4326-ef04-690fd24d6a1d"
      },
      "execution_count": 20,
      "outputs": [
        {
          "output_type": "stream",
          "name": "stdout",
          "text": [
            "Ingrese la palabra o relación que desea la contraseñaxnvx\n",
            "[6, 4, 5, 8, 3, 6, 9, 2, 5, 2, 1]\n"
          ]
        }
      ]
    },
    {
      "cell_type": "code",
      "source": [
        "#ejercicio ana\n",
        "#normal\n",
        "print(\"¡Hola! Soy Lucía del sistema de asignación de turnos para pasaporte de la Gobernación \\n Solo las personas mayores de edad tendrán su cita mañana en el rango de 6am a 12 pm \\n y los menores de edad la tendrán en el rango de 2pm a 6pm \\n \" )\n",
        "lista1=[('Pedro',33),('Ana',3),('Juan',13),('Carla',45)]\n",
        "lista2=[]\n",
        "lista3=[]\n",
        "for elemento in lista1:\n",
        "  if elemento[1]>=18:\n",
        "    lista2.append(elemento)\n",
        "print(f'{lista2} tendrán la cita a las 8am y 10am respectivamente')\n",
        "\n",
        "for elemento in lista1:\n",
        "  if elemento[1]<18:\n",
        "    lista3.append(elemento)\n",
        "print(f'{lista3} tendrán la cita a las 2pm y 4pm respectivamente')\n"
      ],
      "metadata": {
        "id": "JQNwo_xxNGZI"
      },
      "execution_count": null,
      "outputs": []
    },
    {
      "cell_type": "code",
      "source": [
        "#compresión\n",
        "print(\"¡Hola! Soy Lucía del sistema de asignación de turnos para pasaporte de la Gobernación \\n Solo las personas mayores de edad tendrán su cita mañana en el rango de 6am a 12 pm \\n y los menores de edad la tendrán en el rango de 2pm a 6pm \\n \" )\n",
        "personas=[('Pedro',33),('Ana',3),('Juan',13),('Carla',45)]\n",
        "\n",
        "\n",
        "personas_mayores=[per for per in personas if per[1]>=18]\n",
        "print(f'{personas_mayores} tendrán la cita a las 8am y 10am respectivamente')\n",
        "\n",
        "personas_menores=[per for per in personas if per[1]<18]\n",
        "print(f'{personas_menores} tendrán la cita a las 2pm y 4pm respectivamente')\n"
      ],
      "metadata": {
        "id": "BXBgyohhPQe2"
      },
      "execution_count": null,
      "outputs": []
    },
    {
      "cell_type": "code",
      "source": [
        "#lambda\n",
        "print(\"¡Hola! Soy Lucía del sistema de asignación de turnos para pasaporte de la Gobernación \\n Solo las personas mayores de edad tendrán su cita mañana en el rango de 6am a 12 pm \\n y los menores de edad la tendrán en el rango de 2pm a 6pm \\n \" )\n",
        "personas=[('Pedro',33),('Ana',3),('Juan',13),('Carla',45)]\n",
        "perma=list(filter(lambda may: may[1]>=18,personas ))\n",
        "perma\n",
        "print(f'{perma} tendrán la cita a las 8am y 10am respectivamente')\n",
        "\n",
        "perme=list(filter(lambda men: men[1]<18,personas ))\n",
        "perme\n",
        "print(f'{perme} tendrán la cita a las 2pm y 4pm respectivamente')\n"
      ],
      "metadata": {
        "id": "09EtGbJjPSbX"
      },
      "execution_count": null,
      "outputs": []
    }
  ]
}