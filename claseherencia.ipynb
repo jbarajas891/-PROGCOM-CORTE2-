{
  "nbformat": 4,
  "nbformat_minor": 0,
  "metadata": {
    "colab": {
      "provenance": [],
      "collapsed_sections": []
    },
    "kernelspec": {
      "name": "python3",
      "display_name": "Python 3"
    },
    "language_info": {
      "name": "python"
    }
  },
  "cells": [
    {
      "cell_type": "code",
      "execution_count": 63,
      "metadata": {
        "id": "cQDrn8XlFzBf"
      },
      "outputs": [],
      "source": [
        "class Espadas():\n",
        "  nombre ='soy espada'\n",
        "  daño ='causo daño'\n",
        "  \n",
        "  def __init__(self, nombre,daño):\n",
        "    self.nombre=nombre\n",
        "    self.daño=daño\n",
        "    \n",
        "  def __repr__(self):\n",
        "    return f'espada de: {self.nombre}, y causa: {self.daño} de daño'\n"
      ]
    },
    {
      "cell_type": "code",
      "source": [
        "class Espada_elemental(Espadas):# calse hija\n",
        "\n",
        "  def masatributos(self,elemento,tamaño,durabilidad,color):\n",
        "    self.elemento= elemento\n",
        "    self.tamaño= tamaño\n",
        "    self.durabilidad=durabilidad\n",
        "    self.color=color\n",
        "   \n"
      ],
      "metadata": {
        "id": "vaT3kZuWGtdC"
      },
      "execution_count": 62,
      "outputs": []
    },
    {
      "cell_type": "code",
      "source": [
        "espada1=Espada_elemental('vinijr','infinito')\n"
      ],
      "metadata": {
        "id": "PWoYDUBKIx5l"
      },
      "execution_count": 64,
      "outputs": []
    },
    {
      "cell_type": "code",
      "source": [
        "espada1.masatributos('obsidiana diamante',100,'infinita','rojo')"
      ],
      "metadata": {
        "id": "kSJioZ7lJ4fU"
      },
      "execution_count": 66,
      "outputs": []
    },
    {
      "cell_type": "code",
      "source": [
        "print(espada1)"
      ],
      "metadata": {
        "colab": {
          "base_uri": "https://localhost:8080/"
        },
        "id": "TJkVpuZ_JDqt",
        "outputId": "064ce949-552b-4ad3-c1c6-821709586aa8"
      },
      "execution_count": 65,
      "outputs": [
        {
          "output_type": "stream",
          "name": "stdout",
          "text": [
            "espada de: vinijr, y causa: infinito de daño\n"
          ]
        }
      ]
    },
    {
      "cell_type": "code",
      "source": [
        "espada1.__dict__"
      ],
      "metadata": {
        "colab": {
          "base_uri": "https://localhost:8080/"
        },
        "id": "ZeCKo36rJ2it",
        "outputId": "6b945e3f-ba05-4b5d-f733-29b83faeb0ec"
      },
      "execution_count": 67,
      "outputs": [
        {
          "output_type": "execute_result",
          "data": {
            "text/plain": [
              "{'nombre': 'vinijr',\n",
              " 'daño': 'infinito',\n",
              " 'elemento': 'obsidiana diamante',\n",
              " 'tamaño': 100,\n",
              " 'durabilidad': 'infinita',\n",
              " 'color': 'rojo'}"
            ]
          },
          "metadata": {},
          "execution_count": 67
        }
      ]
    },
    {
      "cell_type": "code",
      "source": [
        "class Dragon():\n",
        "  nombre ='meñamo'\n",
        "  poder ='causo daño'\n",
        "  sexo ='soy de sexo'\n",
        "  tamaño='soy de de este tamaño'\n",
        "\n",
        "  def __init__(self, nombre,poder,sexo,tamaño):\n",
        "    self.nombre=nombre\n",
        "    self.poder=poder\n",
        "    self.sexo=sexo\n",
        "    self.tamaño=tamaño\n",
        "    \n",
        "  def __repr__(self):\n",
        "    return f'soy: {self.nombre}, y causo: {self.poder} de daño, y soy de sexo:{self.sexo}, y soy de grande{self.tamaño}'"
      ],
      "metadata": {
        "id": "Kqhe2Q80RGtb"
      },
      "execution_count": 73,
      "outputs": []
    },
    {
      "cell_type": "code",
      "source": [
        "class Sayayin(Dragon):\n",
        "  def defsayayin(self,fase,resistencia,colordepelo):\n",
        "    self.fase=fase\n",
        "    self.resistencia=resistencia\n",
        "    self.colordepelo=colordepelo\n",
        "\n"
      ],
      "metadata": {
        "id": "6QxH4bjuRVWT"
      },
      "execution_count": 74,
      "outputs": []
    },
    {
      "cell_type": "code",
      "source": [
        "sayayin1=Sayayin('koku',1000,'masculino','grande')"
      ],
      "metadata": {
        "id": "AqETo5X2TC7B"
      },
      "execution_count": 75,
      "outputs": []
    },
    {
      "cell_type": "code",
      "source": [
        "print(sayayin1)"
      ],
      "metadata": {
        "colab": {
          "base_uri": "https://localhost:8080/"
        },
        "id": "LtsfAgp3TPhI",
        "outputId": "903eb302-597f-4c77-e24a-af511b79922e"
      },
      "execution_count": 76,
      "outputs": [
        {
          "output_type": "stream",
          "name": "stdout",
          "text": [
            "soy: koku, y causo: 1000 de daño, y soy de sexo:masculino, y soy de grandegrande\n"
          ]
        }
      ]
    },
    {
      "cell_type": "code",
      "source": [
        "sayayin1.defsayayin(10000,'monito')"
      ],
      "metadata": {
        "colab": {
          "base_uri": "https://localhost:8080/",
          "height": 171
        },
        "id": "aQReqYo6Tc64",
        "outputId": "e5c81f22-28fe-4ce3-fca1-ff936c3f5f43"
      },
      "execution_count": 78,
      "outputs": [
        {
          "output_type": "error",
          "ename": "TypeError",
          "evalue": "ignored",
          "traceback": [
            "\u001b[0;31m---------------------------------------------------------------------------\u001b[0m",
            "\u001b[0;31mTypeError\u001b[0m                                 Traceback (most recent call last)",
            "\u001b[0;32m<ipython-input-78-f2a02ef74cec>\u001b[0m in \u001b[0;36m<module>\u001b[0;34m\u001b[0m\n\u001b[0;32m----> 1\u001b[0;31m \u001b[0msayayin1\u001b[0m\u001b[0;34m.\u001b[0m\u001b[0mdefsayayin\u001b[0m\u001b[0;34m(\u001b[0m\u001b[0;36m10000\u001b[0m\u001b[0;34m,\u001b[0m\u001b[0;34m'monito'\u001b[0m\u001b[0;34m)\u001b[0m\u001b[0;34m\u001b[0m\u001b[0;34m\u001b[0m\u001b[0m\n\u001b[0m",
            "\u001b[0;31mTypeError\u001b[0m: defsayayin() missing 1 required positional argument: 'colordepelo'"
          ]
        }
      ]
    },
    {
      "cell_type": "code",
      "source": [
        "class Humano():\n",
        "  def __init__(self,nombre,edad,cuerpo,piernas,brazos,ojos,cabello,nariz,color_piel):\n",
        "    self.nombre=nombre\n",
        "    self.edad=edad\n",
        "    self.cuerpo=cuerpo\n",
        "    self.piernas=piernas\n",
        "    self.brazos=brazos\n",
        "    self.ojos=ojos\n",
        "    self.cabello=cabello\n",
        "    self.nariz=nariz\n",
        "    self.color_piel=color_piel\n",
        "  def caminar(self,aceleracion,velocidad):\n",
        "    if velocidad>0.5 and velocidad<1:\n",
        "      return f\"{self.nombre} está gateando\"\n",
        "    if velocidad>2 and velocidad<4:\n",
        "      return f\"{self.nombre} está caminando\"    \n",
        "    if velocidad>=5 and velocidad<7:\n",
        "      return f\"{self.nombre} está trotando\"\n",
        "    if velocidad>=7 and velocidad<10:\n",
        "      return f\"{self.nombre} está corriendo\"\n",
        "    if velocidad>=1 and velocidad<2:\n",
        "      return f\"{self.nombre} está cojeando\"\n",
        "    else:\n",
        "      return f\"{self.nombre} está trotando\"\n",
        "\n",
        "  def comer(self,saciedad):\n",
        "    if saciedad==0:\n",
        "      return f\"{self.nombre} tengo hambre\"\n",
        "    if saciedad>0 and saciedad<1:\n",
        "      return f\"{self.nombre} sigo con hambre pero no tanto\"\n",
        "    if saciedad>=1 and saciedad<1:\n",
        "      return f\"{self.nombre} estoy algo saciado\"\n",
        "    if saciedad>=2 and saciedad<4:\n",
        "      return f\"{self.nombre} estoy bien\"\n",
        "    else:\n",
        "      return f\"{self.nombre} estoy lleno bien\""
      ],
      "metadata": {
        "id": "W-I3mvzbWqT3"
      },
      "execution_count": 79,
      "outputs": []
    },
    {
      "cell_type": "code",
      "source": [
        "esudiante=Humano('giren',16,'delgadogordo',2,2,'azules','rubio y corto',1,'negro')\n",
        "esudiante.__dict__"
      ],
      "metadata": {
        "colab": {
          "base_uri": "https://localhost:8080/"
        },
        "id": "5O40qEwmWrk2",
        "outputId": "f0453613-fd1f-4c81-8d91-3404577d45f6"
      },
      "execution_count": 80,
      "outputs": [
        {
          "output_type": "execute_result",
          "data": {
            "text/plain": [
              "{'nombre': 'giren',\n",
              " 'edad': 16,\n",
              " 'cuerpo': 'delgadogordo',\n",
              " 'piernas': 2,\n",
              " 'brazos': 2,\n",
              " 'ojos': 'azules',\n",
              " 'cabello': 'rubio y corto',\n",
              " 'nariz': 1,\n",
              " 'color_piel': 'negro'}"
            ]
          },
          "metadata": {},
          "execution_count": 80
        }
      ]
    },
    {
      "cell_type": "code",
      "source": [
        "esudiante.caminar(10,2)"
      ],
      "metadata": {
        "colab": {
          "base_uri": "https://localhost:8080/",
          "height": 36
        },
        "id": "8kZOIjnvXLfl",
        "outputId": "2a9e6ff5-2802-41d9-f0f1-df26b26d992f"
      },
      "execution_count": 81,
      "outputs": [
        {
          "output_type": "execute_result",
          "data": {
            "text/plain": [
              "'giren está trotando'"
            ],
            "application/vnd.google.colaboratory.intrinsic+json": {
              "type": "string"
            }
          },
          "metadata": {},
          "execution_count": 81
        }
      ]
    },
    {
      "cell_type": "code",
      "source": [
        "esudiante.comer(3)"
      ],
      "metadata": {
        "colab": {
          "base_uri": "https://localhost:8080/",
          "height": 36
        },
        "id": "C_PohsuhXeH9",
        "outputId": "2197bcf3-f672-4238-bf51-589027fae71e"
      },
      "execution_count": 82,
      "outputs": [
        {
          "output_type": "execute_result",
          "data": {
            "text/plain": [
              "'giren estoy bien'"
            ],
            "application/vnd.google.colaboratory.intrinsic+json": {
              "type": "string"
            }
          },
          "metadata": {},
          "execution_count": 82
        }
      ]
    }
  ]
}