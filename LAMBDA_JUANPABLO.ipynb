{
  "nbformat": 4,
  "nbformat_minor": 0,
  "metadata": {
    "colab": {
      "provenance": []
    },
    "kernelspec": {
      "name": "python3",
      "display_name": "Python 3"
    },
    "language_info": {
      "name": "python"
    }
  },
  "cells": [
    {
      "cell_type": "markdown",
      "source": [
        "#lamda o funciones anónimas\n",
        "* funciones pequeñas de facil acceso y que sean rapidas\n",
        "* puede contener ** varios** argumentos pero solo una expresion\n",
        "\n",
        "Definiendo lamda:\n",
        "lamda (parametro):expresion\n",
        "\n",
        "\n"
      ],
      "metadata": {
        "id": "pt9stB6n8wEN"
      }
    },
    {
      "cell_type": "code",
      "source": [
        "#una funcion que eleve al cuadrado todos los elementos de una lista\n",
        "lista=[2,5,6,7]\n",
        "#comprension\n",
        "lista2=[n**2 for n in lista]\n",
        "lista2"
      ],
      "metadata": {
        "colab": {
          "base_uri": "https://localhost:8080/"
        },
        "id": "T_L-fXIP97WU",
        "outputId": "d1bbdeaa-55bc-4491-e78d-6987cebad22c"
      },
      "execution_count": 1,
      "outputs": [
        {
          "output_type": "execute_result",
          "data": {
            "text/plain": [
              "[4, 25, 36, 49]"
            ]
          },
          "metadata": {},
          "execution_count": 1
        }
      ]
    },
    {
      "cell_type": "code",
      "source": [
        "def elevar(*entrada): #se coloca * para indicar que se va a ingresar una lista\n",
        "  for i in entrada:\n",
        "    print(i**2)\n",
        "    \n",
        "\n",
        "  \n"
      ],
      "metadata": {
        "id": "4b88zsFS-a6L"
      },
      "execution_count": null,
      "outputs": []
    },
    {
      "cell_type": "code",
      "source": [
        "lambda1=lambda x:x**2\n",
        "lambda1(2)\n"
      ],
      "metadata": {
        "colab": {
          "base_uri": "https://localhost:8080/"
        },
        "id": "lYrIlMGXAqYE",
        "outputId": "78c72102-ab26-4efd-f3ff-e10c53f7e424"
      },
      "execution_count": 2,
      "outputs": [
        {
          "output_type": "execute_result",
          "data": {
            "text/plain": [
              "4"
            ]
          },
          "metadata": {},
          "execution_count": 2
        }
      ]
    },
    {
      "cell_type": "code",
      "source": [
        "lambda2=lambda x,y:x**y\n",
        "lambda2(2,4)"
      ],
      "metadata": {
        "colab": {
          "base_uri": "https://localhost:8080/"
        },
        "id": "UJ0Mx73RA0er",
        "outputId": "68fa20aa-9932-4892-af7c-7d86127fd8eb"
      },
      "execution_count": 3,
      "outputs": [
        {
          "output_type": "execute_result",
          "data": {
            "text/plain": [
              "16"
            ]
          },
          "metadata": {},
          "execution_count": 3
        }
      ]
    },
    {
      "cell_type": "code",
      "source": [
        "from re import T\n",
        "lambda3= lambda num:True if num **2>=0 else False\n",
        "lambda3(2)"
      ],
      "metadata": {
        "colab": {
          "base_uri": "https://localhost:8080/"
        },
        "id": "AxdKQy8PBELE",
        "outputId": "aec8dbf1-726d-4345-e165-6bb3b4b16b61"
      },
      "execution_count": 5,
      "outputs": [
        {
          "output_type": "execute_result",
          "data": {
            "text/plain": [
              "True"
            ]
          },
          "metadata": {},
          "execution_count": 5
        }
      ]
    },
    {
      "cell_type": "code",
      "source": [
        "lambda3(3)"
      ],
      "metadata": {
        "colab": {
          "base_uri": "https://localhost:8080/"
        },
        "id": "3kGV5otJBcrl",
        "outputId": "c699fc5c-95bf-4935-b388-da7acbe4d7a0"
      },
      "execution_count": 6,
      "outputs": [
        {
          "output_type": "execute_result",
          "data": {
            "text/plain": [
              "True"
            ]
          },
          "metadata": {},
          "execution_count": 6
        }
      ]
    },
    {
      "cell_type": "code",
      "source": [
        "letras={'A':3,'B':6,'C':7}\n",
        "sorted(letras,key=lambda x:letras[x]%3)"
      ],
      "metadata": {
        "colab": {
          "base_uri": "https://localhost:8080/"
        },
        "id": "_SRhIIvEBuEK",
        "outputId": "e3734a9e-3857-4d5b-c9bc-845948cfea3d"
      },
      "execution_count": 7,
      "outputs": [
        {
          "output_type": "execute_result",
          "data": {
            "text/plain": [
              "['A', 'B', 'C']"
            ]
          },
          "metadata": {},
          "execution_count": 7
        }
      ]
    },
    {
      "cell_type": "code",
      "source": [
        "milista=[1,2,3,4,5,6,7,8,9]"
      ],
      "metadata": {
        "id": "UeaDWDmNEI58"
      },
      "execution_count": null,
      "outputs": []
    },
    {
      "cell_type": "markdown",
      "source": [
        "##funciones de orden superior\n",
        "1. MAP\n",
        "la funcion se aplica a cada elemento de la lista\n",
        "\n",
        "*map(una_funcion,una_lista)"
      ],
      "metadata": {
        "id": "-eYFvon_GhK2"
      }
    },
    {
      "cell_type": "code",
      "source": [
        "cuadrados=[]\n",
        "for i in lista:\n",
        "  cuadrados.append(i**2)\n",
        "print(cuadrados )"
      ],
      "metadata": {
        "colab": {
          "base_uri": "https://localhost:8080/"
        },
        "id": "Z_NU2DXvHLv0",
        "outputId": "5f94add9-88e9-4f29-81cb-301a20ce4c22"
      },
      "execution_count": 9,
      "outputs": [
        {
          "output_type": "stream",
          "name": "stdout",
          "text": [
            "[4, 25, 36, 49]\n"
          ]
        }
      ]
    },
    {
      "cell_type": "code",
      "source": [
        "cuadrado2=[x**2 for x in lista] #comprensio"
      ],
      "metadata": {
        "id": "qW1vy1j7IXzC"
      },
      "execution_count": null,
      "outputs": []
    },
    {
      "cell_type": "code",
      "source": [
        "cuadrado3=list(map(lambda x:x**2,lista))\n",
        "cuadrado3"
      ],
      "metadata": {
        "colab": {
          "base_uri": "https://localhost:8080/"
        },
        "id": "av3jV3_gIrrp",
        "outputId": "c532470a-829b-4358-9da0-dd9e06a6cbd1"
      },
      "execution_count": 11,
      "outputs": [
        {
          "output_type": "execute_result",
          "data": {
            "text/plain": [
              "[4, 25, 36, 49]"
            ]
          },
          "metadata": {},
          "execution_count": 11
        }
      ]
    },
    {
      "cell_type": "markdown",
      "source": [
        "#filter\n",
        "filtrar .si se cumple la condicion devuelve un true\n",
        "\n",
        "*se define : filter(una_funcion , una lista)"
      ],
      "metadata": {
        "id": "UzPXwYBvJ4S6"
      }
    },
    {
      "cell_type": "code",
      "source": [
        "vavalore=[num for num in range(0,10)]\n",
        "pares=[]\n",
        "for valor in vavalore:\n",
        "  if valor%2==0:\n",
        "    pares.append(valor)\n",
        "print(pares)\n",
        "\n"
      ],
      "metadata": {
        "colab": {
          "base_uri": "https://localhost:8080/"
        },
        "id": "sEO9OdA7KAW8",
        "outputId": "6cd139d1-254b-45eb-9cdd-e4381e836285"
      },
      "execution_count": 13,
      "outputs": [
        {
          "output_type": "stream",
          "name": "stdout",
          "text": [
            "[0, 2, 4, 6, 8]\n"
          ]
        }
      ]
    },
    {
      "cell_type": "code",
      "source": [
        "valoe2=[lol for lol in vavalore if lol %2==0]\n",
        "valoe2"
      ],
      "metadata": {
        "colab": {
          "base_uri": "https://localhost:8080/"
        },
        "id": "jJLTVTmWK7cD",
        "outputId": "4e42d959-c463-4120-e856-4c116b1fd803"
      },
      "execution_count": 15,
      "outputs": [
        {
          "output_type": "execute_result",
          "data": {
            "text/plain": [
              "[0, 2, 4, 6, 8]"
            ]
          },
          "metadata": {},
          "execution_count": 15
        }
      ]
    },
    {
      "cell_type": "code",
      "source": [
        "valor3=list(filter(lambda juli: juli%2==0,vavalore))\n",
        "valor3"
      ],
      "metadata": {
        "colab": {
          "base_uri": "https://localhost:8080/"
        },
        "id": "DOU3gyPDLgSj",
        "outputId": "1d979a41-c012-4584-8769-773c381d2b79"
      },
      "execution_count": 16,
      "outputs": [
        {
          "output_type": "execute_result",
          "data": {
            "text/plain": [
              "[0, 2, 4, 6, 8]"
            ]
          },
          "metadata": {},
          "execution_count": 16
        }
      ]
    },
    {
      "cell_type": "markdown",
      "source": [
        "#reduce\n",
        "es un acumulador\n",
        "\n",
        "*para usar reduce se debe importar el modulo functools\n"
      ],
      "metadata": {
        "id": "Om9W-IQ1L_K3"
      }
    },
    {
      "cell_type": "code",
      "source": [
        "from functools import reduce\n",
        "def suma(lista):\n",
        "  suma=0\n",
        "  for i in lista:\n",
        "    suma+=i #suma=suma+i\n",
        "  return suma\n",
        "print(suma(vavalore))"
      ],
      "metadata": {
        "colab": {
          "base_uri": "https://localhost:8080/"
        },
        "id": "fCXTNnaGL9sJ",
        "outputId": "9123a107-864b-441e-e4ed-8b77da19ebce"
      },
      "execution_count": 26,
      "outputs": [
        {
          "output_type": "stream",
          "name": "stdout",
          "text": [
            "45\n"
          ]
        }
      ]
    },
    {
      "cell_type": "code",
      "source": [
        "suma1=reduce(lambda x,y:x+y,vavalore)\n",
        "suma1"
      ],
      "metadata": {
        "colab": {
          "base_uri": "https://localhost:8080/"
        },
        "id": "02vDYoUAOCdF",
        "outputId": "3b688d5c-ef58-4424-d62b-7592dbf2f0f2"
      },
      "execution_count": 27,
      "outputs": [
        {
          "output_type": "execute_result",
          "data": {
            "text/plain": [
              "45"
            ]
          },
          "metadata": {},
          "execution_count": 27
        }
      ]
    }
  ]
}